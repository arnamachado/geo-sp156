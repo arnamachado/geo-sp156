{
 "cells": [
  {
   "cell_type": "markdown",
   "metadata": {},
   "source": [
    "# Espacializando os atendimentos do SP156\n",
    "\n",
    "O primeiro passo para espacializarmos os dados de atendimento do SP156 é juntar os arquivos. Para isso vamos utilziar a biblioteca Pandas"
   ]
  },
  {
   "cell_type": "code",
   "execution_count": 1,
   "metadata": {},
   "outputs": [],
   "source": [
    "import pandas as pd\n",
    "import glob\n",
    "\n",
    "path = r'download' # use your path\n",
    "all_files = glob.glob(path + \"/*.csv\")\n",
    "\n",
    "li = []\n",
    "\n",
    "for filename in all_files:\n",
    "    df = pd.read_csv(filename, index_col=None, header=0, encoding=\"ISO-8859-1\", delimiter=';', parse_dates=['Data de abertura', 'Data do parecer'])\n",
    "    li.append(df)\n",
    "\n",
    "frame = pd.concat(li, axis=0, ignore_index=True)\n"
   ]
  },
  {
   "cell_type": "code",
   "execution_count": 2,
   "metadata": {},
   "outputs": [],
   "source": [
    "frame['Latitude'] = pd.to_numeric(frame['Latitude'].str.replace(',', '.'), errors='coerce')\n",
    "frame['Longitude'] = pd.to_numeric(frame['Longitude'].str.replace(',', '.'), errors='coerce')"
   ]
  },
  {
   "cell_type": "code",
   "execution_count": 3,
   "metadata": {},
   "outputs": [
    {
     "data": {
      "text/plain": [
       "Data de abertura         datetime64[ns]\n",
       "Canal                            object\n",
       "Tema                             object\n",
       "Assunto                          object\n",
       "Serviço                          object\n",
       "Logradouro                       object\n",
       "Número                           object\n",
       "CEP                              object\n",
       "Subprefeitura                    object\n",
       "Distrito                         object\n",
       "Setor                            object\n",
       "Quadra                           object\n",
       "Latitude                        float64\n",
       "Longitude                       float64\n",
       "Data do parecer          datetime64[ns]\n",
       "Status da solicitação            object\n",
       "Órgão                            object\n",
       "dtype: object"
      ]
     },
     "execution_count": 3,
     "metadata": {},
     "output_type": "execute_result"
    }
   ],
   "source": [
    "frame.dtypes\n"
   ]
  },
  {
   "cell_type": "code",
   "execution_count": 4,
   "metadata": {},
   "outputs": [
    {
     "data": {
      "text/html": [
       "<div>\n",
       "<style scoped>\n",
       "    .dataframe tbody tr th:only-of-type {\n",
       "        vertical-align: middle;\n",
       "    }\n",
       "\n",
       "    .dataframe tbody tr th {\n",
       "        vertical-align: top;\n",
       "    }\n",
       "\n",
       "    .dataframe thead th {\n",
       "        text-align: right;\n",
       "    }\n",
       "</style>\n",
       "<table border=\"1\" class=\"dataframe\">\n",
       "  <thead>\n",
       "    <tr style=\"text-align: right;\">\n",
       "      <th></th>\n",
       "      <th>Data de abertura</th>\n",
       "      <th>Canal</th>\n",
       "      <th>Tema</th>\n",
       "      <th>Assunto</th>\n",
       "      <th>Serviço</th>\n",
       "      <th>Logradouro</th>\n",
       "      <th>Número</th>\n",
       "      <th>CEP</th>\n",
       "      <th>Subprefeitura</th>\n",
       "      <th>Distrito</th>\n",
       "      <th>Setor</th>\n",
       "      <th>Quadra</th>\n",
       "      <th>Latitude</th>\n",
       "      <th>Longitude</th>\n",
       "      <th>Data do parecer</th>\n",
       "      <th>Status da solicitação</th>\n",
       "      <th>Órgão</th>\n",
       "    </tr>\n",
       "  </thead>\n",
       "  <tbody>\n",
       "    <tr>\n",
       "      <th>0</th>\n",
       "      <td>2015-01-01 00:01:46</td>\n",
       "      <td></td>\n",
       "      <td>Cidadania e assistência social</td>\n",
       "      <td>População ou pessoa em situação de rua</td>\n",
       "      <td>Serviço Especializado de Abordagem Social às P...</td>\n",
       "      <td></td>\n",
       "      <td></td>\n",
       "      <td></td>\n",
       "      <td>GUAIANASES</td>\n",
       "      <td>GUAIANASES</td>\n",
       "      <td></td>\n",
       "      <td></td>\n",
       "      <td>NaN</td>\n",
       "      <td>NaN</td>\n",
       "      <td>2015-01-01 06:00:55</td>\n",
       "      <td>FINALIZADA</td>\n",
       "      <td>SMADS</td>\n",
       "    </tr>\n",
       "    <tr>\n",
       "      <th>1</th>\n",
       "      <td>2015-01-01 00:08:31</td>\n",
       "      <td></td>\n",
       "      <td>Rua e bairro</td>\n",
       "      <td>Reparos em asfalto, pontes e viadutos</td>\n",
       "      <td>Tapa-buraco</td>\n",
       "      <td>RUA LICURI</td>\n",
       "      <td>30</td>\n",
       "      <td>3585090</td>\n",
       "      <td>ITAQUERA</td>\n",
       "      <td>CIDADE LIDER</td>\n",
       "      <td>146</td>\n",
       "      <td>161</td>\n",
       "      <td>-23.564410</td>\n",
       "      <td>-46.490931</td>\n",
       "      <td>2015-01-20 11:11:42</td>\n",
       "      <td>FINALIZADA</td>\n",
       "      <td>SMPR</td>\n",
       "    </tr>\n",
       "    <tr>\n",
       "      <th>2</th>\n",
       "      <td>2015-01-01 00:09:24</td>\n",
       "      <td></td>\n",
       "      <td>Trânsito e Transporte</td>\n",
       "      <td>Reclamação ônibus</td>\n",
       "      <td>Ônibus - Reclamação de intervalo excessivo da ...</td>\n",
       "      <td></td>\n",
       "      <td></td>\n",
       "      <td></td>\n",
       "      <td>MOOCA</td>\n",
       "      <td>TATUAPE</td>\n",
       "      <td></td>\n",
       "      <td></td>\n",
       "      <td>NaN</td>\n",
       "      <td>NaN</td>\n",
       "      <td>2015-02-09 16:17:00</td>\n",
       "      <td>FINALIZADA</td>\n",
       "      <td>SPTRANS</td>\n",
       "    </tr>\n",
       "    <tr>\n",
       "      <th>3</th>\n",
       "      <td>2015-01-01 00:12:24</td>\n",
       "      <td></td>\n",
       "      <td>Rua e bairro</td>\n",
       "      <td>Reparos em asfalto, pontes e viadutos</td>\n",
       "      <td>Tapa-buraco</td>\n",
       "      <td>RUA PEDRO DE LABATUT</td>\n",
       "      <td>10</td>\n",
       "      <td>8280020</td>\n",
       "      <td>ITAQUERA</td>\n",
       "      <td>CIDADE LIDER</td>\n",
       "      <td>146</td>\n",
       "      <td>139</td>\n",
       "      <td>-23.554640</td>\n",
       "      <td>-46.481812</td>\n",
       "      <td>2015-01-22 11:30:28</td>\n",
       "      <td>FINALIZADA</td>\n",
       "      <td>SMPR</td>\n",
       "    </tr>\n",
       "    <tr>\n",
       "      <th>4</th>\n",
       "      <td>2015-01-01 00:13:48</td>\n",
       "      <td></td>\n",
       "      <td>Rua e bairro</td>\n",
       "      <td>Reparos em asfalto, pontes e viadutos</td>\n",
       "      <td>Tapa-buraco</td>\n",
       "      <td>RUA JOSE DORIA DE ANDRADE</td>\n",
       "      <td>28</td>\n",
       "      <td>8285340</td>\n",
       "      <td>ITAQUERA</td>\n",
       "      <td>CIDADE LIDER</td>\n",
       "      <td>145</td>\n",
       "      <td>9</td>\n",
       "      <td>-23.553785</td>\n",
       "      <td>-46.480517</td>\n",
       "      <td>2015-01-22 11:30:12</td>\n",
       "      <td>FINALIZADA</td>\n",
       "      <td>SMPR</td>\n",
       "    </tr>\n",
       "    <tr>\n",
       "      <th>...</th>\n",
       "      <td>...</td>\n",
       "      <td>...</td>\n",
       "      <td>...</td>\n",
       "      <td>...</td>\n",
       "      <td>...</td>\n",
       "      <td>...</td>\n",
       "      <td>...</td>\n",
       "      <td>...</td>\n",
       "      <td>...</td>\n",
       "      <td>...</td>\n",
       "      <td>...</td>\n",
       "      <td>...</td>\n",
       "      <td>...</td>\n",
       "      <td>...</td>\n",
       "      <td>...</td>\n",
       "      <td>...</td>\n",
       "      <td>...</td>\n",
       "    </tr>\n",
       "    <tr>\n",
       "      <th>3866376</th>\n",
       "      <td>2019-09-30 23:56:46</td>\n",
       "      <td>PORTAL ONLINE</td>\n",
       "      <td>Animais</td>\n",
       "      <td>Animais que podem causar doenças e/ou agravos ...</td>\n",
       "      <td>Denúncia de local com pombos</td>\n",
       "      <td></td>\n",
       "      <td></td>\n",
       "      <td></td>\n",
       "      <td>MOOCA</td>\n",
       "      <td>MOOCA</td>\n",
       "      <td></td>\n",
       "      <td></td>\n",
       "      <td>NaN</td>\n",
       "      <td>NaN</td>\n",
       "      <td>NaT</td>\n",
       "      <td>AGUARDANDO ATENDIMENTO</td>\n",
       "      <td>COVISA-UVIS</td>\n",
       "    </tr>\n",
       "    <tr>\n",
       "      <th>3866377</th>\n",
       "      <td>2019-09-30 23:56:48</td>\n",
       "      <td>CENTRAL TELEFÔNICA</td>\n",
       "      <td>Urgência</td>\n",
       "      <td>Guarda Civil Metropolitana</td>\n",
       "      <td>Alarme disparado</td>\n",
       "      <td></td>\n",
       "      <td></td>\n",
       "      <td></td>\n",
       "      <td>ERMELINO MATARAZZO</td>\n",
       "      <td>ERMELINO MATARAZZO</td>\n",
       "      <td></td>\n",
       "      <td></td>\n",
       "      <td>NaN</td>\n",
       "      <td>NaN</td>\n",
       "      <td>2019-10-01 04:55:28</td>\n",
       "      <td>FINALIZADA</td>\n",
       "      <td>GCM</td>\n",
       "    </tr>\n",
       "    <tr>\n",
       "      <th>3866378</th>\n",
       "      <td>2019-09-30 23:57:40</td>\n",
       "      <td>CENTRAL TELEFÔNICA</td>\n",
       "      <td>Cidadania e assistência social</td>\n",
       "      <td>População ou pessoa em situação de rua</td>\n",
       "      <td>Serviço Especializado de Abordagem Social às P...</td>\n",
       "      <td></td>\n",
       "      <td></td>\n",
       "      <td></td>\n",
       "      <td>SE</td>\n",
       "      <td>SE</td>\n",
       "      <td></td>\n",
       "      <td></td>\n",
       "      <td>NaN</td>\n",
       "      <td>NaN</td>\n",
       "      <td>2019-10-01 03:06:57</td>\n",
       "      <td>FINALIZADA</td>\n",
       "      <td>SMADS</td>\n",
       "    </tr>\n",
       "    <tr>\n",
       "      <th>3866379</th>\n",
       "      <td>2019-09-30 23:58:04</td>\n",
       "      <td>PORTAL ONLINE</td>\n",
       "      <td>Trânsito e Transporte</td>\n",
       "      <td>Reclamação ônibus</td>\n",
       "      <td>Ônibus - Reclamação de intervalo excessivo da ...</td>\n",
       "      <td></td>\n",
       "      <td></td>\n",
       "      <td></td>\n",
       "      <td>NaN</td>\n",
       "      <td>NaN</td>\n",
       "      <td></td>\n",
       "      <td></td>\n",
       "      <td>NaN</td>\n",
       "      <td>NaN</td>\n",
       "      <td>2019-10-01 00:08:03</td>\n",
       "      <td>AGUARDANDO ATENDIMENTO</td>\n",
       "      <td>SPTRANS</td>\n",
       "    </tr>\n",
       "    <tr>\n",
       "      <th>3866380</th>\n",
       "      <td>2019-09-30 23:59:29</td>\n",
       "      <td>CENTRAL TELEFÔNICA</td>\n",
       "      <td>Urgência</td>\n",
       "      <td>Guarda Civil Metropolitana</td>\n",
       "      <td>Alarme disparado</td>\n",
       "      <td></td>\n",
       "      <td></td>\n",
       "      <td></td>\n",
       "      <td>IPIRANGA</td>\n",
       "      <td>SACOMA</td>\n",
       "      <td></td>\n",
       "      <td></td>\n",
       "      <td>NaN</td>\n",
       "      <td>NaN</td>\n",
       "      <td>2019-10-01 03:13:06</td>\n",
       "      <td>FINALIZADA</td>\n",
       "      <td>GCM</td>\n",
       "    </tr>\n",
       "  </tbody>\n",
       "</table>\n",
       "<p>3866381 rows × 17 columns</p>\n",
       "</div>"
      ],
      "text/plain": [
       "           Data de abertura               Canal  \\\n",
       "0       2015-01-01 00:01:46                       \n",
       "1       2015-01-01 00:08:31                       \n",
       "2       2015-01-01 00:09:24                       \n",
       "3       2015-01-01 00:12:24                       \n",
       "4       2015-01-01 00:13:48                       \n",
       "...                     ...                 ...   \n",
       "3866376 2019-09-30 23:56:46       PORTAL ONLINE   \n",
       "3866377 2019-09-30 23:56:48  CENTRAL TELEFÔNICA   \n",
       "3866378 2019-09-30 23:57:40  CENTRAL TELEFÔNICA   \n",
       "3866379 2019-09-30 23:58:04       PORTAL ONLINE   \n",
       "3866380 2019-09-30 23:59:29  CENTRAL TELEFÔNICA   \n",
       "\n",
       "                                   Tema  \\\n",
       "0        Cidadania e assistência social   \n",
       "1                          Rua e bairro   \n",
       "2                 Trânsito e Transporte   \n",
       "3                          Rua e bairro   \n",
       "4                          Rua e bairro   \n",
       "...                                 ...   \n",
       "3866376                         Animais   \n",
       "3866377                        Urgência   \n",
       "3866378  Cidadania e assistência social   \n",
       "3866379           Trânsito e Transporte   \n",
       "3866380                        Urgência   \n",
       "\n",
       "                                                   Assunto  \\\n",
       "0                   População ou pessoa em situação de rua   \n",
       "1                    Reparos em asfalto, pontes e viadutos   \n",
       "2                                        Reclamação ônibus   \n",
       "3                    Reparos em asfalto, pontes e viadutos   \n",
       "4                    Reparos em asfalto, pontes e viadutos   \n",
       "...                                                    ...   \n",
       "3866376  Animais que podem causar doenças e/ou agravos ...   \n",
       "3866377                         Guarda Civil Metropolitana   \n",
       "3866378             População ou pessoa em situação de rua   \n",
       "3866379                                  Reclamação ônibus   \n",
       "3866380                         Guarda Civil Metropolitana   \n",
       "\n",
       "                                                   Serviço  \\\n",
       "0        Serviço Especializado de Abordagem Social às P...   \n",
       "1                                              Tapa-buraco   \n",
       "2        Ônibus - Reclamação de intervalo excessivo da ...   \n",
       "3                                              Tapa-buraco   \n",
       "4                                              Tapa-buraco   \n",
       "...                                                    ...   \n",
       "3866376                       Denúncia de local com pombos   \n",
       "3866377                                   Alarme disparado   \n",
       "3866378  Serviço Especializado de Abordagem Social às P...   \n",
       "3866379  Ônibus - Reclamação de intervalo excessivo da ...   \n",
       "3866380                                   Alarme disparado   \n",
       "\n",
       "                        Logradouro Número      CEP       Subprefeitura  \\\n",
       "0                                                           GUAIANASES   \n",
       "1                       RUA LICURI     30  3585090            ITAQUERA   \n",
       "2                                                                MOOCA   \n",
       "3             RUA PEDRO DE LABATUT     10  8280020            ITAQUERA   \n",
       "4        RUA JOSE DORIA DE ANDRADE     28  8285340            ITAQUERA   \n",
       "...                            ...    ...      ...                 ...   \n",
       "3866376                                                          MOOCA   \n",
       "3866377                                             ERMELINO MATARAZZO   \n",
       "3866378                                                             SE   \n",
       "3866379                                                            NaN   \n",
       "3866380                                                       IPIRANGA   \n",
       "\n",
       "                   Distrito Setor Quadra   Latitude  Longitude  \\\n",
       "0                GUAIANASES                     NaN        NaN   \n",
       "1              CIDADE LIDER   146    161 -23.564410 -46.490931   \n",
       "2                   TATUAPE                     NaN        NaN   \n",
       "3              CIDADE LIDER   146    139 -23.554640 -46.481812   \n",
       "4              CIDADE LIDER   145      9 -23.553785 -46.480517   \n",
       "...                     ...   ...    ...        ...        ...   \n",
       "3866376               MOOCA                     NaN        NaN   \n",
       "3866377  ERMELINO MATARAZZO                     NaN        NaN   \n",
       "3866378                  SE                     NaN        NaN   \n",
       "3866379                 NaN                     NaN        NaN   \n",
       "3866380              SACOMA                     NaN        NaN   \n",
       "\n",
       "            Data do parecer   Status da solicitação        Órgão  \n",
       "0       2015-01-01 06:00:55              FINALIZADA        SMADS  \n",
       "1       2015-01-20 11:11:42              FINALIZADA         SMPR  \n",
       "2       2015-02-09 16:17:00              FINALIZADA      SPTRANS  \n",
       "3       2015-01-22 11:30:28              FINALIZADA         SMPR  \n",
       "4       2015-01-22 11:30:12              FINALIZADA         SMPR  \n",
       "...                     ...                     ...          ...  \n",
       "3866376                 NaT  AGUARDANDO ATENDIMENTO  COVISA-UVIS  \n",
       "3866377 2019-10-01 04:55:28              FINALIZADA          GCM  \n",
       "3866378 2019-10-01 03:06:57              FINALIZADA        SMADS  \n",
       "3866379 2019-10-01 00:08:03  AGUARDANDO ATENDIMENTO      SPTRANS  \n",
       "3866380 2019-10-01 03:13:06              FINALIZADA          GCM  \n",
       "\n",
       "[3866381 rows x 17 columns]"
      ]
     },
     "execution_count": 4,
     "metadata": {},
     "output_type": "execute_result"
    }
   ],
   "source": [
    "frame"
   ]
  },
  {
   "cell_type": "markdown",
   "metadata": {},
   "source": [
    "## Contabilizando e agrupando\n",
    "\n",
    "Agora podemos ter um panorama geral de cada um dos campos"
   ]
  },
  {
   "cell_type": "code",
   "execution_count": 5,
   "metadata": {},
   "outputs": [
    {
     "name": "stderr",
     "output_type": "stream",
     "text": [
      "C:\\Users\\D877341\\AppData\\Local\\Continuum\\miniconda3\\lib\\site-packages\\ipykernel_launcher.py:2: FutureWarning: The signature of `Series.to_csv` was aligned to that of `DataFrame.to_csv`, and argument 'header' will change its default value from False to True: please pass an explicit value to suppress this warning.\n",
      "  \n"
     ]
    }
   ],
   "source": [
    "#frame.Canal.unique().tolist()\n",
    "frame.groupby(['Canal', 'Tema', 'Assunto', 'Serviço']).size().to_csv(r'resultados\\sp156_atendimentos_agrupados.csv')"
   ]
  },
  {
   "cell_type": "code",
   "execution_count": 6,
   "metadata": {},
   "outputs": [
    {
     "name": "stderr",
     "output_type": "stream",
     "text": [
      "C:\\Users\\D877341\\AppData\\Local\\Continuum\\miniconda3\\lib\\site-packages\\ipykernel_launcher.py:1: FutureWarning: The signature of `Series.to_csv` was aligned to that of `DataFrame.to_csv`, and argument 'header' will change its default value from False to True: please pass an explicit value to suppress this warning.\n",
      "  \"\"\"Entry point for launching an IPython kernel.\n"
     ]
    }
   ],
   "source": [
    "frame.groupby(['Tema', 'Assunto', 'Serviço']).size().to_csv(r'resultados\\sp156_atendimentos_agrupados_sem_canal.csv')"
   ]
  },
  {
   "cell_type": "code",
   "execution_count": 7,
   "metadata": {},
   "outputs": [
    {
     "data": {
      "text/plain": [
       "Tema\n",
       "Acessibilidade                       1893\n",
       "Animais                            195670\n",
       "Bilhete Único                       92900\n",
       "Canais de Atendimento               14036\n",
       "Cidadania e assistência social     383850\n",
       "Comércio e serviços                 69052\n",
       "Cultura, esporte e lazer             1090\n",
       "Documentos e licenças               37452\n",
       "Educação                            19031\n",
       "Finanças                             9255\n",
       "Lixo e limpeza                     555771\n",
       "Localizacao de tumulo                   1\n",
       "Meio Ambiente                        9354\n",
       "Obras, imóveis e habitação          82938\n",
       "Ouvidoria Geral do Município        80820\n",
       "Rua e bairro                      1467452\n",
       "SAC/GRC                              4810\n",
       "Saúde                              103794\n",
       "Segurança urbana                     2967\n",
       "Trabalho                             7806\n",
       "Trânsito e Transporte              672708\n",
       "Urgência                            53731\n",
       "Name: Tema, dtype: int64"
      ]
     },
     "execution_count": 7,
     "metadata": {},
     "output_type": "execute_result"
    }
   ],
   "source": [
    "frame.groupby('Tema').Tema.count()"
   ]
  },
  {
   "cell_type": "code",
   "execution_count": 8,
   "metadata": {},
   "outputs": [
    {
     "data": {
      "text/plain": [
       "Assunto\n",
       "ATENDE - Transporte Pessoas com Deficiência      1356\n",
       "Acessibilidade Digital                             38\n",
       "Acessibilidade em edificações                    1741\n",
       "Agendamento eletrônico                           1559\n",
       "Alimentação escolar                               215\n",
       "                                                ...  \n",
       "Áreas Contaminadas                                 39\n",
       "Áreas municipais                                 7909\n",
       "Árvore                                         308713\n",
       "Árvore(Praça Pública)                               8\n",
       "Ônibus                                          54196\n",
       "Name: Assunto, Length: 212, dtype: int64"
      ]
     },
     "execution_count": 8,
     "metadata": {},
     "output_type": "execute_result"
    }
   ],
   "source": [
    "frame.groupby('Assunto')['Assunto'].count()"
   ]
  },
  {
   "cell_type": "code",
   "execution_count": 9,
   "metadata": {},
   "outputs": [
    {
     "data": {
      "text/plain": [
       "Distrito\n",
       "AGUA RASA            33391\n",
       "ALTO DE PINHEIROS    18584\n",
       "ANHANGUERA            6891\n",
       "ARICANDUVA           28729\n",
       "ARTUR ALVIM          25003\n",
       "                     ...  \n",
       "VILA MARIANA         45317\n",
       "VILA MATILDE         35526\n",
       "VILA MEDEIROS        30124\n",
       "VILA PRUDENTE        39238\n",
       "VILA SONIA           36791\n",
       "Name: Distrito, Length: 96, dtype: int64"
      ]
     },
     "execution_count": 9,
     "metadata": {},
     "output_type": "execute_result"
    }
   ],
   "source": [
    "frame.groupby('Distrito')['Distrito'].count()"
   ]
  },
  {
   "cell_type": "code",
   "execution_count": 10,
   "metadata": {},
   "outputs": [
    {
     "data": {
      "text/plain": [
       "Data de abertura  Data de abertura\n",
       "2015              1                    74059\n",
       "                  2                    64227\n",
       "                  3                    92730\n",
       "                  4                    71418\n",
       "                  5                    56706\n",
       "                  6                    49107\n",
       "                  7                    49803\n",
       "                  8                    51014\n",
       "                  9                    54866\n",
       "                  10                   55461\n",
       "                  11                   64924\n",
       "                  12                   68600\n",
       "2016              1                    80385\n",
       "                  2                    96014\n",
       "                  3                    93911\n",
       "                  4                    70341\n",
       "                  5                    58165\n",
       "                  6                    58497\n",
       "                  7                    50545\n",
       "                  8                    54150\n",
       "                  9                    55095\n",
       "                  10                   56676\n",
       "                  11                   59256\n",
       "                  12                   45655\n",
       "2017              1                    75254\n",
       "                  2                    68808\n",
       "                  3                    75179\n",
       "                  4                    54969\n",
       "                  5                    61523\n",
       "                  6                    57044\n",
       "                  7                    52948\n",
       "                  8                    55020\n",
       "                  9                    58548\n",
       "                  10                   62408\n",
       "                  11                   58566\n",
       "                  12                   52142\n",
       "2018              1                    73596\n",
       "                  2                    61166\n",
       "                  3                    72937\n",
       "                  4                    66635\n",
       "                  5                    53763\n",
       "                  6                    50410\n",
       "                  7                    55358\n",
       "                  8                    58578\n",
       "                  9                    52158\n",
       "                  10                   68046\n",
       "                  11                   70026\n",
       "                  12                   64906\n",
       "2019              1                    92702\n",
       "                  2                   107102\n",
       "                  3                   107830\n",
       "                  4                   104872\n",
       "                  5                   102095\n",
       "                  6                    75596\n",
       "                  7                    88270\n",
       "                  8                    90412\n",
       "                  9                    85909\n",
       "Name: Data de abertura, dtype: int64"
      ]
     },
     "execution_count": 10,
     "metadata": {},
     "output_type": "execute_result"
    }
   ],
   "source": [
    "frame['Data de abertura'].groupby([frame['Data de abertura'].dt.year, frame['Data de abertura'].dt.month]).count()"
   ]
  },
  {
   "cell_type": "code",
   "execution_count": 11,
   "metadata": {},
   "outputs": [],
   "source": [
    "df_agrupado = frame.groupby(['Tema', 'Assunto', 'Serviço'])"
   ]
  },
  {
   "cell_type": "code",
   "execution_count": 12,
   "metadata": {},
   "outputs": [],
   "source": [
    "#Percentual georeferenciado\n",
    "quantidade_georeferenciada = len(frame[frame.Longitude.notna() & frame.Latitude.notna()])\n",
    "quantidade_total = len(frame)\n",
    "percentual = quantidade_georeferenciada / len(frame['Data de abertura'])"
   ]
  },
  {
   "cell_type": "code",
   "execution_count": 13,
   "metadata": {},
   "outputs": [
    {
     "name": "stdout",
     "output_type": "stream",
     "text": [
      "Quantidade georeferenciada com Lat e Long:\n",
      "958384\n",
      "Quantidade total de registros:\n",
      "3866381\n",
      "Percentual Georeferenciado:\n",
      "0.24787624396043742\n"
     ]
    }
   ],
   "source": [
    "print(\"Quantidade georeferenciada com Lat e Long:\")\n",
    "print(quantidade_georeferenciada)\n",
    "print(\"Quantidade total de registros:\")\n",
    "print(quantidade_total)\n",
    "print(\"Percentual Georeferenciado:\")\n",
    "print(percentual)"
   ]
  },
  {
   "cell_type": "code",
   "execution_count": 14,
   "metadata": {},
   "outputs": [],
   "source": [
    "#Percentual com setor e quadra\n",
    "quantidade_setor_quadra = len(frame[(frame.Setor.str.isnumeric() | frame.Quadra.str.isnumeric()) & frame.Longitude.isna() & frame.Latitude.isna()])\n",
    "quantidade_total = len(frame)\n",
    "percentual = quantidade_setor_quadra / len(frame['Data de abertura'])"
   ]
  },
  {
   "cell_type": "code",
   "execution_count": 15,
   "metadata": {},
   "outputs": [
    {
     "name": "stdout",
     "output_type": "stream",
     "text": [
      "Quantidade georeferenciada com Lat e Long:\n",
      "111607\n",
      "Quantidade total de registros:\n",
      "3866381\n",
      "Percentual Georeferenciado:\n",
      "0.028866011911397246\n"
     ]
    }
   ],
   "source": [
    "print(\"Quantidade georeferenciada com Lat e Long:\")\n",
    "print(quantidade_setor_quadra)\n",
    "print(\"Quantidade total de registros:\")\n",
    "print(quantidade_total)\n",
    "print(\"Percentual Georeferenciado:\")\n",
    "print(percentual)"
   ]
  },
  {
   "cell_type": "code",
   "execution_count": 16,
   "metadata": {},
   "outputs": [
    {
     "name": "stderr",
     "output_type": "stream",
     "text": [
      "C:\\Users\\D877341\\AppData\\Local\\Continuum\\miniconda3\\lib\\site-packages\\ipykernel_launcher.py:2: FutureWarning: The signature of `Series.to_csv` was aligned to that of `DataFrame.to_csv`, and argument 'header' will change its default value from False to True: please pass an explicit value to suppress this warning.\n",
      "  \n"
     ]
    }
   ],
   "source": [
    "# Agrupando por temas os atendimentos georeferenciaveis\n",
    "frame[frame.Setor.str.isnumeric() | frame.Quadra.str.isnumeric() | frame.Longitude.notna() | frame.Latitude.notna()].groupby(['Tema', 'Assunto', 'Serviço']).size().to_csv(r'resultados\\sp156_atendimentos_agrupados_georeferenciaveis.csv')"
   ]
  },
  {
   "cell_type": "code",
   "execution_count": 65,
   "metadata": {
    "scrolled": false
   },
   "outputs": [
    {
     "data": {
      "image/png": "[encoded data removed]",
      "text/plain": [
       "<Figure size 432x288 with 1 Axes>"
      ]
     },
     "metadata": {
      "needs_background": "light"
     },
     "output_type": "display_data"
    }
   ],
   "source": [
    "frame.index.name = 'id'\n",
    "frame['counter'] = 1\n",
    "#frame_mes_SEAS = frame.loc[frame['Serviço'] == 'Serviço Especializado de Abordagem Social às Pessoas em Situação de Rua - SEAS'].groupby([frame['Data de abertura'].dt.year, frame['Data de abertura'].dt.month]).counter.count()\n",
    "frame_mes_SEAS = frame.loc[frame['Serviço'] == 'Serviço Especializado de Abordagem Social às Pessoas em Situação de Rua - SEAS'].groupby(frame['Data de abertura'].dt.year).counter.count()\n",
    "ax = frame_mes_SEAS.plot.bar(x='m', y='v', rot=0)"
   ]
  },
  {
   "cell_type": "code",
   "execution_count": 75,
   "metadata": {},
   "outputs": [],
   "source": [
    "frame.loc[frame['Serviço'] == 'Serviço Especializado de Abordagem Social às Pessoas em Situação de Rua - SEAS'][['Canal','Data de abertura', 'Distrito']].to_csv(r'resultados\\sp156_atendimento_SEAS.csv')"
   ]
  },
  {
   "cell_type": "code",
   "execution_count": 97,
   "metadata": {},
   "outputs": [
    {
     "data": {
      "text/plain": [
       "<matplotlib.axes._subplots.AxesSubplot at 0x29ba9a6b4c8>"
      ]
     },
     "execution_count": 97,
     "metadata": {},
     "output_type": "execute_result"
    },
    {
     "data": {
      "image/png": "[encoded data removed]",
      "text/plain": [
       "<Figure size 432x288 with 1 Axes>"
      ]
     },
     "metadata": {
      "needs_background": "light"
     },
     "output_type": "display_data"
    }
   ],
   "source": [
    "#frame['Data de abertura'].dt.cumsum()\n",
    "frame.set_index('Data de abertura').groupby(pd.Grouper(freq='W')).counter.count().plot()"
   ]
  },
  {
   "cell_type": "code",
   "execution_count": 105,
   "metadata": {},
   "outputs": [
    {
     "data": {
      "text/plain": [
       "<matplotlib.axes._subplots.AxesSubplot at 0x29ba9b18388>"
      ]
     },
     "execution_count": 105,
     "metadata": {},
     "output_type": "execute_result"
    },
    {
     "data": {
      "image/png": "[encoded data removed]",
      "text/plain": [
       "<Figure size 432x288 with 1 Axes>"
      ]
     },
     "metadata": {
      "needs_background": "light"
     },
     "output_type": "display_data"
    }
   ],
   "source": [
    "frame['dia_da_semana'] = frame['Data de abertura'].dt.dayofweek\n",
    "frame.groupby(['dia_da_semana']).counter.count().plot()"
   ]
  },
  {
   "cell_type": "code",
   "execution_count": 112,
   "metadata": {},
   "outputs": [
    {
     "ename": "SyntaxError",
     "evalue": "invalid syntax (<ipython-input-112-41393bd19037>, line 2)",
     "output_type": "error",
     "traceback": [
      "\u001b[1;36m  File \u001b[1;32m\"<ipython-input-112-41393bd19037>\"\u001b[1;36m, line \u001b[1;32m2\u001b[0m\n\u001b[1;33m    frame.groupby(frame['Data de Abertura'].dt..hour).counter.count().plot()\u001b[0m\n\u001b[1;37m                                               ^\u001b[0m\n\u001b[1;31mSyntaxError\u001b[0m\u001b[1;31m:\u001b[0m invalid syntax\n"
     ]
    }
   ],
   "source": [
    "frame['horario'] = frame['Data de abertura'].dt.time\n",
    "frame.groupby(frame['Data de abertura'].dt.hour).counter.count().plot()"
   ]
  }
 ],
 "metadata": {
  "kernelspec": {
   "display_name": "Python 3",
   "language": "python",
   "name": "python3"
  },
  "language_info": {
   "codemirror_mode": {
    "name": "ipython",
    "version": 3
   },
   "file_extension": ".py",
   "mimetype": "text/x-python",
   "name": "python",
   "nbconvert_exporter": "python",
   "pygments_lexer": "ipython3",
   "version": "3.7.6"
  }
 },
 "nbformat": 4,
 "nbformat_minor": 4
}
