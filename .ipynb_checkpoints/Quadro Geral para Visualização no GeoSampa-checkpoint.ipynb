{
 "cells": [
  {
   "cell_type": "markdown",
   "metadata": {},
   "source": [
    "# Quadro geral para visualização no GeoSampa\n",
    "\n",
    "Esse aqui é o NoteBook Para Planejamento da Visualização dos dados no GeoSampa\n"
   ]
  },
  {
   "cell_type": "code",
   "execution_count": 1,
   "metadata": {},
   "outputs": [
    {
     "name": "stderr",
     "output_type": "stream",
     "text": [
      "/home/fernando/miniconda3/envs/geo_env/lib/python3.8/site-packages/IPython/core/interactiveshell.py:3062: DtypeWarning: Columns (7) have mixed types.Specify dtype option on import or set low_memory=False.\n",
      "  has_raised = await self.run_ast_nodes(code_ast.body, cell_name,\n"
     ]
    }
   ],
   "source": [
    "import pandas as pd\n",
    "import glob\n",
    "\n",
    "# Abrindo o ano de 2020\n",
    "df = pd.read_csv('download/dados-do-sp156---1o-sem-2020.zip',index_col=None, header=0, encoding=\"ISO-8859-1\", delimiter=';', parse_dates=['Data de abertura', 'Data do parecer'])"
   ]
  },
  {
   "cell_type": "code",
   "execution_count": 2,
   "metadata": {},
   "outputs": [],
   "source": [
    "df['Latitude'] = pd.to_numeric(df['Latitude'].str.replace(',', '.'), errors='coerce')\n",
    "df['Longitude'] = pd.to_numeric(df['Longitude'].str.replace(',', '.'), errors='coerce')"
   ]
  },
  {
   "cell_type": "code",
   "execution_count": 3,
   "metadata": {},
   "outputs": [
    {
     "data": {
      "text/plain": [
       "Data de abertura         datetime64[ns]\n",
       "Canal                            object\n",
       "Tema                             object\n",
       "Assunto                          object\n",
       "Serviço                          object\n",
       "Logradouro                       object\n",
       "Número                          float64\n",
       "CEP                              object\n",
       "Subprefeitura                    object\n",
       "Distrito                         object\n",
       "Setor                           float64\n",
       "Quadra                          float64\n",
       "Latitude                        float64\n",
       "Longitude                       float64\n",
       "Data do parecer          datetime64[ns]\n",
       "Status da solicitação            object\n",
       "Órgão                            object\n",
       "dtype: object"
      ]
     },
     "execution_count": 3,
     "metadata": {},
     "output_type": "execute_result"
    }
   ],
   "source": [
    "df.dtypes"
   ]
  },
  {
   "cell_type": "markdown",
   "metadata": {},
   "source": [
    "## Criando arquivo de LOG do processamento\n",
    "\n",
    "Esse arquivo de log vai seguir documentando o processamento para servir de apêndice ao metadado"
   ]
  },
  {
   "cell_type": "code",
   "execution_count": 4,
   "metadata": {},
   "outputs": [],
   "source": [
    "import os\n",
    "if os.path.exists(\"./logs/log-visualizacao-sp156-2020.txt\"):\n",
    "    os.remove(\"./logs/log-visualizacao-sp156-2020.txt\")"
   ]
  },
  {
   "cell_type": "code",
   "execution_count": 5,
   "metadata": {},
   "outputs": [],
   "source": [
    "log = open(\"./logs/log-visualizacao-sp156-2020.txt\", \"w+\")"
   ]
  },
  {
   "cell_type": "code",
   "execution_count": 6,
   "metadata": {},
   "outputs": [],
   "source": [
    "from datetime import datetime\n",
    "now = datetime.now()"
   ]
  },
  {
   "cell_type": "code",
   "execution_count": 7,
   "metadata": {},
   "outputs": [
    {
     "data": {
      "text/plain": [
       "22"
      ]
     },
     "execution_count": 7,
     "metadata": {},
     "output_type": "execute_result"
    }
   ],
   "source": [
    "log.write(f'## Iniciando o processamento da espacialização dos Atentimentos do SP 156\\n')\n",
    "log.write(f'- {datetime.now().strftime(\"%d/%m/%Y %H:%M:%S\")}\\n')"
   ]
  },
  {
   "cell_type": "markdown",
   "metadata": {},
   "source": [
    "## Suprimindo da visualização serviços pouco solicitados \n",
    "\n",
    "Para melhorar a navagação seria interessante ter menos serviços dessa forma podemos criar um grupo grande com outros serviços"
   ]
  },
  {
   "cell_type": "code",
   "execution_count": 8,
   "metadata": {},
   "outputs": [
    {
     "data": {
      "text/plain": [
       "51"
      ]
     },
     "execution_count": 8,
     "metadata": {},
     "output_type": "execute_result"
    }
   ],
   "source": [
    "log.write('## Removendo serviços com menos de 200 ocorrências\\n')"
   ]
  },
  {
   "cell_type": "code",
   "execution_count": 9,
   "metadata": {},
   "outputs": [],
   "source": [
    "limite = 200"
   ]
  },
  {
   "cell_type": "code",
   "execution_count": 10,
   "metadata": {},
   "outputs": [
    {
     "name": "stdout",
     "output_type": "stream",
     "text": [
      "Pretty printing has been turned OFF\n"
     ]
    }
   ],
   "source": [
    "%pprint"
   ]
  },
  {
   "cell_type": "code",
   "execution_count": 11,
   "metadata": {},
   "outputs": [
    {
     "data": {
      "text/plain": [
       "88"
      ]
     },
     "execution_count": 11,
     "metadata": {},
     "output_type": "execute_result"
    }
   ],
   "source": [
    "log.write('- Documentando serviços que ficarão de fora da visualização\\n')\n",
    "log.write(f'- salvando o resultado em ./resultados/hierarquia-de-visualizacao-abaixo-limite-{limite}.csv\\n')"
   ]
  },
  {
   "cell_type": "code",
   "execution_count": 12,
   "metadata": {
    "scrolled": false
   },
   "outputs": [],
   "source": [
    "df[~df.Distrito.isna()].groupby(['Serviço']).filter(lambda x: len(x) > limite).groupby(['Tema','Serviço'])['Canal'].count().to_csv(f'./resultados/hierarquia-de-visualizacao-limite-{limite}.csv')"
   ]
  },
  {
   "cell_type": "code",
   "execution_count": 13,
   "metadata": {},
   "outputs": [
    {
     "data": {
      "text/plain": [
       "81"
      ]
     },
     "execution_count": 13,
     "metadata": {},
     "output_type": "execute_result"
    }
   ],
   "source": [
    "log.write('- Documentando serviços com mais de 200 ocorrências visualização\\n')\n",
    "log.write(f'- salvando o resultado em ./resultados/hierarquia-de-visualizacao-limite-{limite}.csv\\n')"
   ]
  },
  {
   "cell_type": "code",
   "execution_count": 14,
   "metadata": {},
   "outputs": [],
   "source": [
    "df[~df.Distrito.isna()].groupby(['Serviço']).filter(lambda x: len(x) <= limite).groupby(['Tema','Serviço'])['Canal'].count().to_csv(f'./resultados/hierarquia-de-visualizacao-abaixo-limite-{limite}.csv')"
   ]
  },
  {
   "cell_type": "code",
   "execution_count": 15,
   "metadata": {},
   "outputs": [],
   "source": [
    "df_menor_200 = df.drop(df.groupby(['Serviço']).filter(lambda x: len(x) > limite).index)"
   ]
  },
  {
   "cell_type": "code",
   "execution_count": 16,
   "metadata": {},
   "outputs": [],
   "source": [
    "df = df.drop(df.groupby(['Serviço']).filter(lambda x: len(x) <= limite).index)"
   ]
  },
  {
   "cell_type": "code",
   "execution_count": 17,
   "metadata": {},
   "outputs": [
    {
     "data": {
      "text/html": [
       "<div>\n",
       "<style scoped>\n",
       "    .dataframe tbody tr th:only-of-type {\n",
       "        vertical-align: middle;\n",
       "    }\n",
       "\n",
       "    .dataframe tbody tr th {\n",
       "        vertical-align: top;\n",
       "    }\n",
       "\n",
       "    .dataframe thead th {\n",
       "        text-align: right;\n",
       "    }\n",
       "</style>\n",
       "<table border=\"1\" class=\"dataframe\">\n",
       "  <thead>\n",
       "    <tr style=\"text-align: right;\">\n",
       "      <th></th>\n",
       "      <th>Data de abertura</th>\n",
       "      <th>Canal</th>\n",
       "      <th>Tema</th>\n",
       "      <th>Assunto</th>\n",
       "      <th>Serviço</th>\n",
       "      <th>Logradouro</th>\n",
       "      <th>Número</th>\n",
       "      <th>CEP</th>\n",
       "      <th>Subprefeitura</th>\n",
       "      <th>Distrito</th>\n",
       "      <th>Setor</th>\n",
       "      <th>Quadra</th>\n",
       "      <th>Latitude</th>\n",
       "      <th>Longitude</th>\n",
       "      <th>Data do parecer</th>\n",
       "      <th>Status da solicitação</th>\n",
       "      <th>Órgão</th>\n",
       "    </tr>\n",
       "  </thead>\n",
       "  <tbody>\n",
       "    <tr>\n",
       "      <th>0</th>\n",
       "      <td>2020-01-01 00:00:15</td>\n",
       "      <td>PORTAL ONLINE</td>\n",
       "      <td>Rua e bairro</td>\n",
       "      <td>Poluição Sonora - PSIU</td>\n",
       "      <td>Reclamação de poluição sonora - PSIU</td>\n",
       "      <td>NaN</td>\n",
       "      <td>NaN</td>\n",
       "      <td>NaN</td>\n",
       "      <td>SANTANA-TUCURUVI</td>\n",
       "      <td>SANTANA</td>\n",
       "      <td>NaN</td>\n",
       "      <td>NaN</td>\n",
       "      <td>NaN</td>\n",
       "      <td>NaN</td>\n",
       "      <td>NaT</td>\n",
       "      <td>AGUARDANDO ATENDIMENTO</td>\n",
       "      <td>SMSUB</td>\n",
       "    </tr>\n",
       "    <tr>\n",
       "      <th>1</th>\n",
       "      <td>2020-01-01 00:01:18</td>\n",
       "      <td>APLICATIVO</td>\n",
       "      <td>Rua e bairro</td>\n",
       "      <td>Reparos em asfalto, pontes e viadutos</td>\n",
       "      <td>Tapa-buraco</td>\n",
       "      <td>Rua Doutor Paulo Furtado de Oliveira</td>\n",
       "      <td>401.0</td>\n",
       "      <td>2.67403e+06</td>\n",
       "      <td>CASA VERDE-CACHOEIRINHA</td>\n",
       "      <td>CACHOEIRINHA</td>\n",
       "      <td>108.0</td>\n",
       "      <td>89.0</td>\n",
       "      <td>-23.459489</td>\n",
       "      <td>-46.667533</td>\n",
       "      <td>2020-01-04 20:35:15</td>\n",
       "      <td>FINALIZADA</td>\n",
       "      <td>SMSUB</td>\n",
       "    </tr>\n",
       "    <tr>\n",
       "      <th>2</th>\n",
       "      <td>2020-01-01 00:04:13</td>\n",
       "      <td>APLICATIVO</td>\n",
       "      <td>Rua e bairro</td>\n",
       "      <td>Reparos em asfalto, pontes e viadutos</td>\n",
       "      <td>Tapa-buraco</td>\n",
       "      <td>Rua Doutor Paulo Furtado de Oliveira</td>\n",
       "      <td>341.0</td>\n",
       "      <td>2.67403e+06</td>\n",
       "      <td>CASA VERDE-CACHOEIRINHA</td>\n",
       "      <td>CACHOEIRINHA</td>\n",
       "      <td>108.0</td>\n",
       "      <td>89.0</td>\n",
       "      <td>-23.459793</td>\n",
       "      <td>-46.668002</td>\n",
       "      <td>2020-01-04 20:36:10</td>\n",
       "      <td>FINALIZADA</td>\n",
       "      <td>SMSUB</td>\n",
       "    </tr>\n",
       "    <tr>\n",
       "      <th>3</th>\n",
       "      <td>2020-01-01 00:06:57</td>\n",
       "      <td>APLICATIVO</td>\n",
       "      <td>Rua e bairro</td>\n",
       "      <td>Reparos em asfalto, pontes e viadutos</td>\n",
       "      <td>Tapa-buraco</td>\n",
       "      <td>Rua Doutor Paulo Furtado de Oliveira</td>\n",
       "      <td>250.0</td>\n",
       "      <td>2.67403e+06</td>\n",
       "      <td>CASA VERDE-CACHOEIRINHA</td>\n",
       "      <td>CACHOEIRINHA</td>\n",
       "      <td>108.0</td>\n",
       "      <td>81.0</td>\n",
       "      <td>-23.460395</td>\n",
       "      <td>-46.668632</td>\n",
       "      <td>2020-01-04 20:38:05</td>\n",
       "      <td>FINALIZADA</td>\n",
       "      <td>SMSUB</td>\n",
       "    </tr>\n",
       "    <tr>\n",
       "      <th>4</th>\n",
       "      <td>2020-01-01 00:08:05</td>\n",
       "      <td>CENTRAL TELEFÔNICA</td>\n",
       "      <td>Trânsito e Transporte</td>\n",
       "      <td>Reclamação ônibus</td>\n",
       "      <td>Ônibus - Reclamação de intervalo excessivo da ...</td>\n",
       "      <td>Rua Kotinda</td>\n",
       "      <td>1679.0</td>\n",
       "      <td>2.36501e+06</td>\n",
       "      <td>JACANA-TREMEMBE</td>\n",
       "      <td>TREMEMBE</td>\n",
       "      <td>NaN</td>\n",
       "      <td>NaN</td>\n",
       "      <td>-23.425205</td>\n",
       "      <td>-46.582186</td>\n",
       "      <td>2020-02-08 06:11:29</td>\n",
       "      <td>FINALIZADA</td>\n",
       "      <td>SPTRANS</td>\n",
       "    </tr>\n",
       "    <tr>\n",
       "      <th>...</th>\n",
       "      <td>...</td>\n",
       "      <td>...</td>\n",
       "      <td>...</td>\n",
       "      <td>...</td>\n",
       "      <td>...</td>\n",
       "      <td>...</td>\n",
       "      <td>...</td>\n",
       "      <td>...</td>\n",
       "      <td>...</td>\n",
       "      <td>...</td>\n",
       "      <td>...</td>\n",
       "      <td>...</td>\n",
       "      <td>...</td>\n",
       "      <td>...</td>\n",
       "      <td>...</td>\n",
       "      <td>...</td>\n",
       "      <td>...</td>\n",
       "    </tr>\n",
       "    <tr>\n",
       "      <th>664975</th>\n",
       "      <td>2020-06-30 23:58:22</td>\n",
       "      <td>PORTAL ONLINE</td>\n",
       "      <td>Bilhete Único</td>\n",
       "      <td>BU Comum</td>\n",
       "      <td>Bilhete Único Comum - Solicitação de relatório...</td>\n",
       "      <td>NaN</td>\n",
       "      <td>NaN</td>\n",
       "      <td>NaN</td>\n",
       "      <td>NaN</td>\n",
       "      <td>NaN</td>\n",
       "      <td>NaN</td>\n",
       "      <td>NaN</td>\n",
       "      <td>NaN</td>\n",
       "      <td>NaN</td>\n",
       "      <td>2020-07-01 09:33:48</td>\n",
       "      <td>FINALIZADA</td>\n",
       "      <td>SPTRANS</td>\n",
       "    </tr>\n",
       "    <tr>\n",
       "      <th>664976</th>\n",
       "      <td>2020-06-30 23:58:40</td>\n",
       "      <td>CENTRAL TELEFÔNICA</td>\n",
       "      <td>Cidadania e assistência social</td>\n",
       "      <td>População ou pessoa em situação de rua</td>\n",
       "      <td>Serviço Especializado de Abordagem Social às P...</td>\n",
       "      <td>NaN</td>\n",
       "      <td>NaN</td>\n",
       "      <td>NaN</td>\n",
       "      <td>PENHA</td>\n",
       "      <td>VILA MATILDE</td>\n",
       "      <td>NaN</td>\n",
       "      <td>NaN</td>\n",
       "      <td>NaN</td>\n",
       "      <td>NaN</td>\n",
       "      <td>2020-07-01 01:09:43</td>\n",
       "      <td>FINALIZADA</td>\n",
       "      <td>SMADS</td>\n",
       "    </tr>\n",
       "    <tr>\n",
       "      <th>664977</th>\n",
       "      <td>2020-06-30 23:58:44</td>\n",
       "      <td>CENTRAL TELEFÔNICA</td>\n",
       "      <td>Cidadania e assistência social</td>\n",
       "      <td>População ou pessoa em situação de rua</td>\n",
       "      <td>Serviço Especializado de Abordagem Social às P...</td>\n",
       "      <td>NaN</td>\n",
       "      <td>NaN</td>\n",
       "      <td>NaN</td>\n",
       "      <td>SE</td>\n",
       "      <td>SANTA CECILIA</td>\n",
       "      <td>NaN</td>\n",
       "      <td>NaN</td>\n",
       "      <td>NaN</td>\n",
       "      <td>NaN</td>\n",
       "      <td>2020-07-01 01:36:47</td>\n",
       "      <td>FINALIZADA</td>\n",
       "      <td>SMADS</td>\n",
       "    </tr>\n",
       "    <tr>\n",
       "      <th>664978</th>\n",
       "      <td>2020-06-30 23:58:59</td>\n",
       "      <td>PORTAL ONLINE</td>\n",
       "      <td>Animais</td>\n",
       "      <td>Exame, vacinas e castração</td>\n",
       "      <td>Castrar cães e gatos gratuitamente</td>\n",
       "      <td>NaN</td>\n",
       "      <td>NaN</td>\n",
       "      <td>NaN</td>\n",
       "      <td>NaN</td>\n",
       "      <td>NaN</td>\n",
       "      <td>NaN</td>\n",
       "      <td>NaN</td>\n",
       "      <td>NaN</td>\n",
       "      <td>NaN</td>\n",
       "      <td>NaT</td>\n",
       "      <td>AGUARDANDO ATENDIMENTO</td>\n",
       "      <td>SMS-COSAP</td>\n",
       "    </tr>\n",
       "    <tr>\n",
       "      <th>664979</th>\n",
       "      <td>2020-06-30 23:59:03</td>\n",
       "      <td>CENTRAL TELEFÔNICA</td>\n",
       "      <td>Cidadania e assistência social</td>\n",
       "      <td>População ou pessoa em situação de rua</td>\n",
       "      <td>Serviço Especializado de Abordagem Social às P...</td>\n",
       "      <td>NaN</td>\n",
       "      <td>NaN</td>\n",
       "      <td>NaN</td>\n",
       "      <td>SE</td>\n",
       "      <td>LIBERDADE</td>\n",
       "      <td>NaN</td>\n",
       "      <td>NaN</td>\n",
       "      <td>NaN</td>\n",
       "      <td>NaN</td>\n",
       "      <td>2020-07-01 00:58:49</td>\n",
       "      <td>FINALIZADA</td>\n",
       "      <td>SMADS</td>\n",
       "    </tr>\n",
       "  </tbody>\n",
       "</table>\n",
       "<p>648645 rows × 17 columns</p>\n",
       "</div>"
      ],
      "text/plain": [
       "          Data de abertura               Canal  \\\n",
       "0      2020-01-01 00:00:15       PORTAL ONLINE   \n",
       "1      2020-01-01 00:01:18          APLICATIVO   \n",
       "2      2020-01-01 00:04:13          APLICATIVO   \n",
       "3      2020-01-01 00:06:57          APLICATIVO   \n",
       "4      2020-01-01 00:08:05  CENTRAL TELEFÔNICA   \n",
       "...                    ...                 ...   \n",
       "664975 2020-06-30 23:58:22       PORTAL ONLINE   \n",
       "664976 2020-06-30 23:58:40  CENTRAL TELEFÔNICA   \n",
       "664977 2020-06-30 23:58:44  CENTRAL TELEFÔNICA   \n",
       "664978 2020-06-30 23:58:59       PORTAL ONLINE   \n",
       "664979 2020-06-30 23:59:03  CENTRAL TELEFÔNICA   \n",
       "\n",
       "                                  Tema  \\\n",
       "0                         Rua e bairro   \n",
       "1                         Rua e bairro   \n",
       "2                         Rua e bairro   \n",
       "3                         Rua e bairro   \n",
       "4                Trânsito e Transporte   \n",
       "...                                ...   \n",
       "664975                   Bilhete Único   \n",
       "664976  Cidadania e assistência social   \n",
       "664977  Cidadania e assistência social   \n",
       "664978                         Animais   \n",
       "664979  Cidadania e assistência social   \n",
       "\n",
       "                                       Assunto  \\\n",
       "0                       Poluição Sonora - PSIU   \n",
       "1        Reparos em asfalto, pontes e viadutos   \n",
       "2        Reparos em asfalto, pontes e viadutos   \n",
       "3        Reparos em asfalto, pontes e viadutos   \n",
       "4                            Reclamação ônibus   \n",
       "...                                        ...   \n",
       "664975                                BU Comum   \n",
       "664976  População ou pessoa em situação de rua   \n",
       "664977  População ou pessoa em situação de rua   \n",
       "664978              Exame, vacinas e castração   \n",
       "664979  População ou pessoa em situação de rua   \n",
       "\n",
       "                                                  Serviço  \\\n",
       "0                    Reclamação de poluição sonora - PSIU   \n",
       "1                                             Tapa-buraco   \n",
       "2                                             Tapa-buraco   \n",
       "3                                             Tapa-buraco   \n",
       "4       Ônibus - Reclamação de intervalo excessivo da ...   \n",
       "...                                                   ...   \n",
       "664975  Bilhete Único Comum - Solicitação de relatório...   \n",
       "664976  Serviço Especializado de Abordagem Social às P...   \n",
       "664977  Serviço Especializado de Abordagem Social às P...   \n",
       "664978                 Castrar cães e gatos gratuitamente   \n",
       "664979  Serviço Especializado de Abordagem Social às P...   \n",
       "\n",
       "                                  Logradouro  Número          CEP  \\\n",
       "0                                        NaN     NaN          NaN   \n",
       "1       Rua Doutor Paulo Furtado de Oliveira   401.0  2.67403e+06   \n",
       "2       Rua Doutor Paulo Furtado de Oliveira   341.0  2.67403e+06   \n",
       "3       Rua Doutor Paulo Furtado de Oliveira   250.0  2.67403e+06   \n",
       "4                                Rua Kotinda  1679.0  2.36501e+06   \n",
       "...                                      ...     ...          ...   \n",
       "664975                                   NaN     NaN          NaN   \n",
       "664976                                   NaN     NaN          NaN   \n",
       "664977                                   NaN     NaN          NaN   \n",
       "664978                                   NaN     NaN          NaN   \n",
       "664979                                   NaN     NaN          NaN   \n",
       "\n",
       "                  Subprefeitura       Distrito  Setor  Quadra   Latitude  \\\n",
       "0              SANTANA-TUCURUVI        SANTANA    NaN     NaN        NaN   \n",
       "1       CASA VERDE-CACHOEIRINHA   CACHOEIRINHA  108.0    89.0 -23.459489   \n",
       "2       CASA VERDE-CACHOEIRINHA   CACHOEIRINHA  108.0    89.0 -23.459793   \n",
       "3       CASA VERDE-CACHOEIRINHA   CACHOEIRINHA  108.0    81.0 -23.460395   \n",
       "4               JACANA-TREMEMBE       TREMEMBE    NaN     NaN -23.425205   \n",
       "...                         ...            ...    ...     ...        ...   \n",
       "664975                      NaN            NaN    NaN     NaN        NaN   \n",
       "664976                    PENHA   VILA MATILDE    NaN     NaN        NaN   \n",
       "664977                       SE  SANTA CECILIA    NaN     NaN        NaN   \n",
       "664978                      NaN            NaN    NaN     NaN        NaN   \n",
       "664979                       SE      LIBERDADE    NaN     NaN        NaN   \n",
       "\n",
       "        Longitude     Data do parecer   Status da solicitação      Órgão  \n",
       "0             NaN                 NaT  AGUARDANDO ATENDIMENTO      SMSUB  \n",
       "1      -46.667533 2020-01-04 20:35:15              FINALIZADA      SMSUB  \n",
       "2      -46.668002 2020-01-04 20:36:10              FINALIZADA      SMSUB  \n",
       "3      -46.668632 2020-01-04 20:38:05              FINALIZADA      SMSUB  \n",
       "4      -46.582186 2020-02-08 06:11:29              FINALIZADA    SPTRANS  \n",
       "...           ...                 ...                     ...        ...  \n",
       "664975        NaN 2020-07-01 09:33:48              FINALIZADA    SPTRANS  \n",
       "664976        NaN 2020-07-01 01:09:43              FINALIZADA      SMADS  \n",
       "664977        NaN 2020-07-01 01:36:47              FINALIZADA      SMADS  \n",
       "664978        NaN                 NaT  AGUARDANDO ATENDIMENTO  SMS-COSAP  \n",
       "664979        NaN 2020-07-01 00:58:49              FINALIZADA      SMADS  \n",
       "\n",
       "[648645 rows x 17 columns]"
      ]
     },
     "execution_count": 17,
     "metadata": {},
     "output_type": "execute_result"
    }
   ],
   "source": [
    "df"
   ]
  },
  {
   "cell_type": "markdown",
   "metadata": {},
   "source": [
    "## Pontos\n",
    "\n",
    "No caso dos pontos podemos gerar um arquivo sem discretização, ou seja, cada registro conterá seu ponto.\n",
    "\n",
    "Então para todos os registros vamos criar uma geometria de pontos pela Lat e Long"
   ]
  },
  {
   "cell_type": "code",
   "execution_count": 18,
   "metadata": {},
   "outputs": [],
   "source": [
    "import geopandas as gpd"
   ]
  },
  {
   "cell_type": "code",
   "execution_count": 19,
   "metadata": {},
   "outputs": [
    {
     "data": {
      "text/plain": [
       "68"
      ]
     },
     "execution_count": 19,
     "metadata": {},
     "output_type": "execute_result"
    }
   ],
   "source": [
    "log.write(f'## Convertendo Lat/Long (epsg:4989) em UTM SIRGAS 2000 (epsg:31983)\\n')"
   ]
  },
  {
   "cell_type": "code",
   "execution_count": 20,
   "metadata": {},
   "outputs": [],
   "source": [
    "gdf = gpd.GeoDataFrame(df, geometry=gpd.points_from_xy(df.Longitude, df.Latitude))\n",
    "gdf_menor_200 = gpd.GeoDataFrame(df_menor_200, geometry=gpd.points_from_xy(df_menor_200.Longitude, df_menor_200.Latitude))"
   ]
  },
  {
   "cell_type": "code",
   "execution_count": 21,
   "metadata": {},
   "outputs": [],
   "source": [
    "gdf.crs = 'epsg:4989'\n",
    "gdf = gdf.to_crs('epsg:31983')\n",
    "gdf_menor_200.crs = 'epsg:4989'\n",
    "gdf_menor_200 = gdf_menor_200.to_crs('epsg:31983')"
   ]
  },
  {
   "cell_type": "code",
   "execution_count": 27,
   "metadata": {},
   "outputs": [
    {
     "data": {
      "text/html": [
       "<div>\n",
       "<style scoped>\n",
       "    .dataframe tbody tr th:only-of-type {\n",
       "        vertical-align: middle;\n",
       "    }\n",
       "\n",
       "    .dataframe tbody tr th {\n",
       "        vertical-align: top;\n",
       "    }\n",
       "\n",
       "    .dataframe thead th {\n",
       "        text-align: right;\n",
       "    }\n",
       "</style>\n",
       "<table border=\"1\" class=\"dataframe\">\n",
       "  <thead>\n",
       "    <tr style=\"text-align: right;\">\n",
       "      <th></th>\n",
       "      <th>Data de abertura</th>\n",
       "      <th>Canal</th>\n",
       "      <th>Tema</th>\n",
       "      <th>Assunto</th>\n",
       "      <th>Serviço</th>\n",
       "      <th>Logradouro</th>\n",
       "      <th>Número</th>\n",
       "      <th>CEP</th>\n",
       "      <th>Subprefeitura</th>\n",
       "      <th>Distrito</th>\n",
       "      <th>Setor</th>\n",
       "      <th>Quadra</th>\n",
       "      <th>Latitude</th>\n",
       "      <th>Longitude</th>\n",
       "      <th>Data do parecer</th>\n",
       "      <th>Status da solicitação</th>\n",
       "      <th>Órgão</th>\n",
       "      <th>geometry</th>\n",
       "    </tr>\n",
       "  </thead>\n",
       "  <tbody>\n",
       "    <tr>\n",
       "      <th>1</th>\n",
       "      <td>2020-01-01 00:01:18</td>\n",
       "      <td>APLICATIVO</td>\n",
       "      <td>Rua e bairro</td>\n",
       "      <td>Reparos em asfalto, pontes e viadutos</td>\n",
       "      <td>Tapa-buraco</td>\n",
       "      <td>Rua Doutor Paulo Furtado de Oliveira</td>\n",
       "      <td>401.0</td>\n",
       "      <td>2.67403e+06</td>\n",
       "      <td>CASA VERDE-CACHOEIRINHA</td>\n",
       "      <td>CACHOEIRINHA</td>\n",
       "      <td>108.0</td>\n",
       "      <td>89.0</td>\n",
       "      <td>-23.459489</td>\n",
       "      <td>-46.667533</td>\n",
       "      <td>2020-01-04 20:35:15</td>\n",
       "      <td>FINALIZADA</td>\n",
       "      <td>SMSUB</td>\n",
       "      <td>POINT (329675.999 7404626.542)</td>\n",
       "    </tr>\n",
       "    <tr>\n",
       "      <th>2</th>\n",
       "      <td>2020-01-01 00:04:13</td>\n",
       "      <td>APLICATIVO</td>\n",
       "      <td>Rua e bairro</td>\n",
       "      <td>Reparos em asfalto, pontes e viadutos</td>\n",
       "      <td>Tapa-buraco</td>\n",
       "      <td>Rua Doutor Paulo Furtado de Oliveira</td>\n",
       "      <td>341.0</td>\n",
       "      <td>2.67403e+06</td>\n",
       "      <td>CASA VERDE-CACHOEIRINHA</td>\n",
       "      <td>CACHOEIRINHA</td>\n",
       "      <td>108.0</td>\n",
       "      <td>89.0</td>\n",
       "      <td>-23.459793</td>\n",
       "      <td>-46.668002</td>\n",
       "      <td>2020-01-04 20:36:10</td>\n",
       "      <td>FINALIZADA</td>\n",
       "      <td>SMSUB</td>\n",
       "      <td>POINT (329628.476 7404592.355)</td>\n",
       "    </tr>\n",
       "    <tr>\n",
       "      <th>3</th>\n",
       "      <td>2020-01-01 00:06:57</td>\n",
       "      <td>APLICATIVO</td>\n",
       "      <td>Rua e bairro</td>\n",
       "      <td>Reparos em asfalto, pontes e viadutos</td>\n",
       "      <td>Tapa-buraco</td>\n",
       "      <td>Rua Doutor Paulo Furtado de Oliveira</td>\n",
       "      <td>250.0</td>\n",
       "      <td>2.67403e+06</td>\n",
       "      <td>CASA VERDE-CACHOEIRINHA</td>\n",
       "      <td>CACHOEIRINHA</td>\n",
       "      <td>108.0</td>\n",
       "      <td>81.0</td>\n",
       "      <td>-23.460395</td>\n",
       "      <td>-46.668632</td>\n",
       "      <td>2020-01-04 20:38:05</td>\n",
       "      <td>FINALIZADA</td>\n",
       "      <td>SMSUB</td>\n",
       "      <td>POINT (329564.918 7404524.956)</td>\n",
       "    </tr>\n",
       "    <tr>\n",
       "      <th>4</th>\n",
       "      <td>2020-01-01 00:08:05</td>\n",
       "      <td>CENTRAL TELEFÔNICA</td>\n",
       "      <td>Trânsito e Transporte</td>\n",
       "      <td>Reclamação ônibus</td>\n",
       "      <td>Ônibus - Reclamação de intervalo excessivo da ...</td>\n",
       "      <td>Rua Kotinda</td>\n",
       "      <td>1679.0</td>\n",
       "      <td>2.36501e+06</td>\n",
       "      <td>JACANA-TREMEMBE</td>\n",
       "      <td>TREMEMBE</td>\n",
       "      <td>NaN</td>\n",
       "      <td>NaN</td>\n",
       "      <td>-23.425205</td>\n",
       "      <td>-46.582186</td>\n",
       "      <td>2020-02-08 06:11:29</td>\n",
       "      <td>FINALIZADA</td>\n",
       "      <td>SPTRANS</td>\n",
       "      <td>POINT (338353.381 7408521.455)</td>\n",
       "    </tr>\n",
       "    <tr>\n",
       "      <th>5</th>\n",
       "      <td>2020-01-01 00:09:19</td>\n",
       "      <td>APLICATIVO</td>\n",
       "      <td>Rua e bairro</td>\n",
       "      <td>Reparos em asfalto, pontes e viadutos</td>\n",
       "      <td>Tapa-buraco</td>\n",
       "      <td>Rua Doutor Paulo Furtado de Oliveira</td>\n",
       "      <td>150.0</td>\n",
       "      <td>2.67403e+06</td>\n",
       "      <td>CASA VERDE-CACHOEIRINHA</td>\n",
       "      <td>CACHOEIRINHA</td>\n",
       "      <td>108.0</td>\n",
       "      <td>81.0</td>\n",
       "      <td>-23.460918</td>\n",
       "      <td>-46.669338</td>\n",
       "      <td>2020-01-04 20:36:12</td>\n",
       "      <td>FINALIZADA</td>\n",
       "      <td>SMSUB</td>\n",
       "      <td>POINT (329493.475 7404466.214)</td>\n",
       "    </tr>\n",
       "    <tr>\n",
       "      <th>...</th>\n",
       "      <td>...</td>\n",
       "      <td>...</td>\n",
       "      <td>...</td>\n",
       "      <td>...</td>\n",
       "      <td>...</td>\n",
       "      <td>...</td>\n",
       "      <td>...</td>\n",
       "      <td>...</td>\n",
       "      <td>...</td>\n",
       "      <td>...</td>\n",
       "      <td>...</td>\n",
       "      <td>...</td>\n",
       "      <td>...</td>\n",
       "      <td>...</td>\n",
       "      <td>...</td>\n",
       "      <td>...</td>\n",
       "      <td>...</td>\n",
       "      <td>...</td>\n",
       "    </tr>\n",
       "    <tr>\n",
       "      <th>664938</th>\n",
       "      <td>2020-06-30 23:20:16</td>\n",
       "      <td>PORTAL ONLINE</td>\n",
       "      <td>Lixo e limpeza</td>\n",
       "      <td>Coleta seletiva</td>\n",
       "      <td>Instalação de contêiner para coleta seletiva</td>\n",
       "      <td>Rua Itapiru</td>\n",
       "      <td>405.0</td>\n",
       "      <td>4.14301e+06</td>\n",
       "      <td>VILA MARIANA</td>\n",
       "      <td>SAUDE</td>\n",
       "      <td>47.0</td>\n",
       "      <td>35.0</td>\n",
       "      <td>-23.615570</td>\n",
       "      <td>-46.635371</td>\n",
       "      <td>2020-07-02 17:30:33</td>\n",
       "      <td>FINALIZADA</td>\n",
       "      <td>AMLURB</td>\n",
       "      <td>POINT (333158.805 7387380.134)</td>\n",
       "    </tr>\n",
       "    <tr>\n",
       "      <th>664942</th>\n",
       "      <td>2020-06-30 23:22:10</td>\n",
       "      <td>PORTAL ONLINE</td>\n",
       "      <td>Rua e bairro</td>\n",
       "      <td>Reparos em asfalto, pontes e viadutos</td>\n",
       "      <td>Tapa-buraco</td>\n",
       "      <td>Rua dos Jequitibás</td>\n",
       "      <td>179.0</td>\n",
       "      <td>5.26303e+06</td>\n",
       "      <td>JABAQUARA</td>\n",
       "      <td>JABAQUARA</td>\n",
       "      <td>91.0</td>\n",
       "      <td>17.0</td>\n",
       "      <td>-23.646634</td>\n",
       "      <td>-46.642266</td>\n",
       "      <td>2020-07-07 23:13:27</td>\n",
       "      <td>FINALIZADA</td>\n",
       "      <td>SMSUB</td>\n",
       "      <td>POINT (332494.788 7383932.063)</td>\n",
       "    </tr>\n",
       "    <tr>\n",
       "      <th>664969</th>\n",
       "      <td>2020-06-30 23:46:19</td>\n",
       "      <td>APLICATIVO</td>\n",
       "      <td>Lixo e limpeza</td>\n",
       "      <td>Lixeiras Públicas</td>\n",
       "      <td>Instalação e remoção de lixeira</td>\n",
       "      <td>Rua Adília Mercado Madureira</td>\n",
       "      <td>39.0</td>\n",
       "      <td>4.40107e+06</td>\n",
       "      <td>CIDADE ADEMAR</td>\n",
       "      <td>CIDADE ADEMAR</td>\n",
       "      <td>120.0</td>\n",
       "      <td>151.0</td>\n",
       "      <td>-23.666484</td>\n",
       "      <td>-46.665565</td>\n",
       "      <td>2020-07-01 17:51:01</td>\n",
       "      <td>FINALIZADA</td>\n",
       "      <td>AMLURB</td>\n",
       "      <td>POINT (330143.547 7381706.295)</td>\n",
       "    </tr>\n",
       "    <tr>\n",
       "      <th>664970</th>\n",
       "      <td>2020-06-30 23:54:09</td>\n",
       "      <td>APLICATIVO</td>\n",
       "      <td>Lixo e limpeza</td>\n",
       "      <td>Remoção de grandes objetos</td>\n",
       "      <td>Remoção de grandes objetos em vias públicas</td>\n",
       "      <td>Rua Voluntários da Pátria</td>\n",
       "      <td>2607.0</td>\n",
       "      <td>2.4011e+06</td>\n",
       "      <td>SANTANA-TUCURUVI</td>\n",
       "      <td>SANTANA</td>\n",
       "      <td>NaN</td>\n",
       "      <td>NaN</td>\n",
       "      <td>-23.497272</td>\n",
       "      <td>-46.625937</td>\n",
       "      <td>2020-07-01 00:25:32</td>\n",
       "      <td>FINALIZADA</td>\n",
       "      <td>AMLURB</td>\n",
       "      <td>POINT (333972.850 7400491.220)</td>\n",
       "    </tr>\n",
       "    <tr>\n",
       "      <th>664972</th>\n",
       "      <td>2020-06-30 23:56:28</td>\n",
       "      <td>APLICATIVO</td>\n",
       "      <td>Rua e bairro</td>\n",
       "      <td>Capinação e roçada de áreas verdes</td>\n",
       "      <td>Capinação em guias e sarjetas</td>\n",
       "      <td>Rua Garção Tinoco</td>\n",
       "      <td>62.0</td>\n",
       "      <td>2.40202e+06</td>\n",
       "      <td>SANTANA-TUCURUVI</td>\n",
       "      <td>SANTANA</td>\n",
       "      <td>69.0</td>\n",
       "      <td>163.0</td>\n",
       "      <td>-23.496424</td>\n",
       "      <td>-46.624545</td>\n",
       "      <td>2020-07-01 00:25:46</td>\n",
       "      <td>FINALIZADA</td>\n",
       "      <td>AMLURB</td>\n",
       "      <td>POINT (334113.883 7400586.689)</td>\n",
       "    </tr>\n",
       "  </tbody>\n",
       "</table>\n",
       "<p>144510 rows × 18 columns</p>\n",
       "</div>"
      ],
      "text/plain": [
       "          Data de abertura               Canal                   Tema  \\\n",
       "1      2020-01-01 00:01:18          APLICATIVO           Rua e bairro   \n",
       "2      2020-01-01 00:04:13          APLICATIVO           Rua e bairro   \n",
       "3      2020-01-01 00:06:57          APLICATIVO           Rua e bairro   \n",
       "4      2020-01-01 00:08:05  CENTRAL TELEFÔNICA  Trânsito e Transporte   \n",
       "5      2020-01-01 00:09:19          APLICATIVO           Rua e bairro   \n",
       "...                    ...                 ...                    ...   \n",
       "664938 2020-06-30 23:20:16       PORTAL ONLINE         Lixo e limpeza   \n",
       "664942 2020-06-30 23:22:10       PORTAL ONLINE           Rua e bairro   \n",
       "664969 2020-06-30 23:46:19          APLICATIVO         Lixo e limpeza   \n",
       "664970 2020-06-30 23:54:09          APLICATIVO         Lixo e limpeza   \n",
       "664972 2020-06-30 23:56:28          APLICATIVO           Rua e bairro   \n",
       "\n",
       "                                      Assunto  \\\n",
       "1       Reparos em asfalto, pontes e viadutos   \n",
       "2       Reparos em asfalto, pontes e viadutos   \n",
       "3       Reparos em asfalto, pontes e viadutos   \n",
       "4                           Reclamação ônibus   \n",
       "5       Reparos em asfalto, pontes e viadutos   \n",
       "...                                       ...   \n",
       "664938                        Coleta seletiva   \n",
       "664942  Reparos em asfalto, pontes e viadutos   \n",
       "664969                      Lixeiras Públicas   \n",
       "664970             Remoção de grandes objetos   \n",
       "664972     Capinação e roçada de áreas verdes   \n",
       "\n",
       "                                                  Serviço  \\\n",
       "1                                             Tapa-buraco   \n",
       "2                                             Tapa-buraco   \n",
       "3                                             Tapa-buraco   \n",
       "4       Ônibus - Reclamação de intervalo excessivo da ...   \n",
       "5                                             Tapa-buraco   \n",
       "...                                                   ...   \n",
       "664938       Instalação de contêiner para coleta seletiva   \n",
       "664942                                        Tapa-buraco   \n",
       "664969                    Instalação e remoção de lixeira   \n",
       "664970        Remoção de grandes objetos em vias públicas   \n",
       "664972                      Capinação em guias e sarjetas   \n",
       "\n",
       "                                  Logradouro  Número          CEP  \\\n",
       "1       Rua Doutor Paulo Furtado de Oliveira   401.0  2.67403e+06   \n",
       "2       Rua Doutor Paulo Furtado de Oliveira   341.0  2.67403e+06   \n",
       "3       Rua Doutor Paulo Furtado de Oliveira   250.0  2.67403e+06   \n",
       "4                                Rua Kotinda  1679.0  2.36501e+06   \n",
       "5       Rua Doutor Paulo Furtado de Oliveira   150.0  2.67403e+06   \n",
       "...                                      ...     ...          ...   \n",
       "664938                           Rua Itapiru   405.0  4.14301e+06   \n",
       "664942                    Rua dos Jequitibás   179.0  5.26303e+06   \n",
       "664969          Rua Adília Mercado Madureira    39.0  4.40107e+06   \n",
       "664970             Rua Voluntários da Pátria  2607.0   2.4011e+06   \n",
       "664972                     Rua Garção Tinoco    62.0  2.40202e+06   \n",
       "\n",
       "                  Subprefeitura       Distrito  Setor  Quadra   Latitude  \\\n",
       "1       CASA VERDE-CACHOEIRINHA   CACHOEIRINHA  108.0    89.0 -23.459489   \n",
       "2       CASA VERDE-CACHOEIRINHA   CACHOEIRINHA  108.0    89.0 -23.459793   \n",
       "3       CASA VERDE-CACHOEIRINHA   CACHOEIRINHA  108.0    81.0 -23.460395   \n",
       "4               JACANA-TREMEMBE       TREMEMBE    NaN     NaN -23.425205   \n",
       "5       CASA VERDE-CACHOEIRINHA   CACHOEIRINHA  108.0    81.0 -23.460918   \n",
       "...                         ...            ...    ...     ...        ...   \n",
       "664938             VILA MARIANA          SAUDE   47.0    35.0 -23.615570   \n",
       "664942                JABAQUARA      JABAQUARA   91.0    17.0 -23.646634   \n",
       "664969            CIDADE ADEMAR  CIDADE ADEMAR  120.0   151.0 -23.666484   \n",
       "664970         SANTANA-TUCURUVI        SANTANA    NaN     NaN -23.497272   \n",
       "664972         SANTANA-TUCURUVI        SANTANA   69.0   163.0 -23.496424   \n",
       "\n",
       "        Longitude     Data do parecer Status da solicitação    Órgão  \\\n",
       "1      -46.667533 2020-01-04 20:35:15            FINALIZADA    SMSUB   \n",
       "2      -46.668002 2020-01-04 20:36:10            FINALIZADA    SMSUB   \n",
       "3      -46.668632 2020-01-04 20:38:05            FINALIZADA    SMSUB   \n",
       "4      -46.582186 2020-02-08 06:11:29            FINALIZADA  SPTRANS   \n",
       "5      -46.669338 2020-01-04 20:36:12            FINALIZADA    SMSUB   \n",
       "...           ...                 ...                   ...      ...   \n",
       "664938 -46.635371 2020-07-02 17:30:33            FINALIZADA   AMLURB   \n",
       "664942 -46.642266 2020-07-07 23:13:27            FINALIZADA    SMSUB   \n",
       "664969 -46.665565 2020-07-01 17:51:01            FINALIZADA   AMLURB   \n",
       "664970 -46.625937 2020-07-01 00:25:32            FINALIZADA   AMLURB   \n",
       "664972 -46.624545 2020-07-01 00:25:46            FINALIZADA   AMLURB   \n",
       "\n",
       "                              geometry  \n",
       "1       POINT (329675.999 7404626.542)  \n",
       "2       POINT (329628.476 7404592.355)  \n",
       "3       POINT (329564.918 7404524.956)  \n",
       "4       POINT (338353.381 7408521.455)  \n",
       "5       POINT (329493.475 7404466.214)  \n",
       "...                                ...  \n",
       "664938  POINT (333158.805 7387380.134)  \n",
       "664942  POINT (332494.788 7383932.063)  \n",
       "664969  POINT (330143.547 7381706.295)  \n",
       "664970  POINT (333972.850 7400491.220)  \n",
       "664972  POINT (334113.883 7400586.689)  \n",
       "\n",
       "[144510 rows x 18 columns]"
      ]
     },
     "execution_count": 27,
     "metadata": {},
     "output_type": "execute_result"
    }
   ],
   "source": [
    "gdf[gdf.geometry.is_valid]"
   ]
  },
  {
   "cell_type": "markdown",
   "metadata": {},
   "source": [
    "## TODO Tratando pontos fora dos limites do município de São Paulo\n",
    "\n",
    "Existem casos em que os pontos estão localizados fora dos limites do município de São Paulo e para finalidade de estudo vamos quantifica-los e discriminá-los para estudos posteriores."
   ]
  },
  {
   "cell_type": "code",
   "execution_count": 28,
   "metadata": {},
   "outputs": [],
   "source": [
    "msp = gpd.read_file('arquivos/SP.shp')\n",
    "gdf_sp = gpd.sjoin(gdf, msp, how='left', op='within')"
   ]
  },
  {
   "cell_type": "code",
   "execution_count": 29,
   "metadata": {},
   "outputs": [
    {
     "data": {
      "text/html": [
       "<div>\n",
       "<style scoped>\n",
       "    .dataframe tbody tr th:only-of-type {\n",
       "        vertical-align: middle;\n",
       "    }\n",
       "\n",
       "    .dataframe tbody tr th {\n",
       "        vertical-align: top;\n",
       "    }\n",
       "\n",
       "    .dataframe thead th {\n",
       "        text-align: right;\n",
       "    }\n",
       "</style>\n",
       "<table border=\"1\" class=\"dataframe\">\n",
       "  <thead>\n",
       "    <tr style=\"text-align: right;\">\n",
       "      <th></th>\n",
       "      <th>Data de abertura</th>\n",
       "      <th>Canal</th>\n",
       "      <th>Tema</th>\n",
       "      <th>Assunto</th>\n",
       "      <th>Serviço</th>\n",
       "      <th>Logradouro</th>\n",
       "      <th>Número</th>\n",
       "      <th>CEP</th>\n",
       "      <th>Subprefeitura</th>\n",
       "      <th>Distrito</th>\n",
       "      <th>Setor</th>\n",
       "      <th>Quadra</th>\n",
       "      <th>Latitude</th>\n",
       "      <th>Longitude</th>\n",
       "      <th>Data do parecer</th>\n",
       "      <th>Status da solicitação</th>\n",
       "      <th>Órgão</th>\n",
       "      <th>geometry</th>\n",
       "    </tr>\n",
       "  </thead>\n",
       "  <tbody>\n",
       "    <tr>\n",
       "      <th>0</th>\n",
       "      <td>2020-01-01 00:00:15</td>\n",
       "      <td>PORTAL ONLINE</td>\n",
       "      <td>Rua e bairro</td>\n",
       "      <td>Poluição Sonora - PSIU</td>\n",
       "      <td>Reclamação de poluição sonora - PSIU</td>\n",
       "      <td>NaN</td>\n",
       "      <td>NaN</td>\n",
       "      <td>NaN</td>\n",
       "      <td>SANTANA-TUCURUVI</td>\n",
       "      <td>SANTANA</td>\n",
       "      <td>NaN</td>\n",
       "      <td>NaN</td>\n",
       "      <td>NaN</td>\n",
       "      <td>NaN</td>\n",
       "      <td>NaT</td>\n",
       "      <td>AGUARDANDO ATENDIMENTO</td>\n",
       "      <td>SMSUB</td>\n",
       "      <td>POINT (inf inf)</td>\n",
       "    </tr>\n",
       "    <tr>\n",
       "      <th>7</th>\n",
       "      <td>2020-01-01 00:13:29</td>\n",
       "      <td>CENTRAL TELEFÔNICA</td>\n",
       "      <td>Cidadania e assistência social</td>\n",
       "      <td>População ou pessoa em situação de rua</td>\n",
       "      <td>Serviço Especializado de Abordagem Social às P...</td>\n",
       "      <td>NaN</td>\n",
       "      <td>NaN</td>\n",
       "      <td>NaN</td>\n",
       "      <td>LAPA</td>\n",
       "      <td>LAPA</td>\n",
       "      <td>NaN</td>\n",
       "      <td>NaN</td>\n",
       "      <td>NaN</td>\n",
       "      <td>NaN</td>\n",
       "      <td>2020-01-01 01:05:09</td>\n",
       "      <td>FINALIZADA</td>\n",
       "      <td>SMADS</td>\n",
       "      <td>POINT (inf inf)</td>\n",
       "    </tr>\n",
       "    <tr>\n",
       "      <th>8</th>\n",
       "      <td>2020-01-01 00:14:56</td>\n",
       "      <td>PORTAL ONLINE</td>\n",
       "      <td>Rua e bairro</td>\n",
       "      <td>Poluição Sonora - PSIU</td>\n",
       "      <td>Reclamação de poluição sonora - PSIU</td>\n",
       "      <td>NaN</td>\n",
       "      <td>NaN</td>\n",
       "      <td>NaN</td>\n",
       "      <td>SANTANA-TUCURUVI</td>\n",
       "      <td>SANTANA</td>\n",
       "      <td>NaN</td>\n",
       "      <td>NaN</td>\n",
       "      <td>NaN</td>\n",
       "      <td>NaN</td>\n",
       "      <td>NaT</td>\n",
       "      <td>AGUARDANDO ATENDIMENTO</td>\n",
       "      <td>SMSUB</td>\n",
       "      <td>POINT (inf inf)</td>\n",
       "    </tr>\n",
       "    <tr>\n",
       "      <th>9</th>\n",
       "      <td>2020-01-01 00:17:59</td>\n",
       "      <td>CENTRAL TELEFÔNICA</td>\n",
       "      <td>Urgência</td>\n",
       "      <td>Guarda Civil Metropolitana</td>\n",
       "      <td>Perturbação do sossego</td>\n",
       "      <td>NaN</td>\n",
       "      <td>NaN</td>\n",
       "      <td>NaN</td>\n",
       "      <td>BUTANTA</td>\n",
       "      <td>RIO PEQUENO</td>\n",
       "      <td>NaN</td>\n",
       "      <td>NaN</td>\n",
       "      <td>NaN</td>\n",
       "      <td>NaN</td>\n",
       "      <td>2020-01-01 01:36:53</td>\n",
       "      <td>FINALIZADA</td>\n",
       "      <td>GCM</td>\n",
       "      <td>POINT (inf inf)</td>\n",
       "    </tr>\n",
       "    <tr>\n",
       "      <th>10</th>\n",
       "      <td>2020-01-01 00:19:21</td>\n",
       "      <td>CENTRAL TELEFÔNICA</td>\n",
       "      <td>Cidadania e assistência social</td>\n",
       "      <td>População ou pessoa em situação de rua</td>\n",
       "      <td>Serviço Especializado de Abordagem Social às P...</td>\n",
       "      <td>NaN</td>\n",
       "      <td>NaN</td>\n",
       "      <td>NaN</td>\n",
       "      <td>PIRITUBA-JARAGUA</td>\n",
       "      <td>PIRITUBA</td>\n",
       "      <td>NaN</td>\n",
       "      <td>NaN</td>\n",
       "      <td>NaN</td>\n",
       "      <td>NaN</td>\n",
       "      <td>2020-01-01 04:25:41</td>\n",
       "      <td>INDEFERIDO</td>\n",
       "      <td>SMADS</td>\n",
       "      <td>POINT (inf inf)</td>\n",
       "    </tr>\n",
       "    <tr>\n",
       "      <th>...</th>\n",
       "      <td>...</td>\n",
       "      <td>...</td>\n",
       "      <td>...</td>\n",
       "      <td>...</td>\n",
       "      <td>...</td>\n",
       "      <td>...</td>\n",
       "      <td>...</td>\n",
       "      <td>...</td>\n",
       "      <td>...</td>\n",
       "      <td>...</td>\n",
       "      <td>...</td>\n",
       "      <td>...</td>\n",
       "      <td>...</td>\n",
       "      <td>...</td>\n",
       "      <td>...</td>\n",
       "      <td>...</td>\n",
       "      <td>...</td>\n",
       "      <td>...</td>\n",
       "    </tr>\n",
       "    <tr>\n",
       "      <th>664975</th>\n",
       "      <td>2020-06-30 23:58:22</td>\n",
       "      <td>PORTAL ONLINE</td>\n",
       "      <td>Bilhete Único</td>\n",
       "      <td>BU Comum</td>\n",
       "      <td>Bilhete Único Comum - Solicitação de relatório...</td>\n",
       "      <td>NaN</td>\n",
       "      <td>NaN</td>\n",
       "      <td>NaN</td>\n",
       "      <td>NaN</td>\n",
       "      <td>NaN</td>\n",
       "      <td>NaN</td>\n",
       "      <td>NaN</td>\n",
       "      <td>NaN</td>\n",
       "      <td>NaN</td>\n",
       "      <td>2020-07-01 09:33:48</td>\n",
       "      <td>FINALIZADA</td>\n",
       "      <td>SPTRANS</td>\n",
       "      <td>POINT (inf inf)</td>\n",
       "    </tr>\n",
       "    <tr>\n",
       "      <th>664976</th>\n",
       "      <td>2020-06-30 23:58:40</td>\n",
       "      <td>CENTRAL TELEFÔNICA</td>\n",
       "      <td>Cidadania e assistência social</td>\n",
       "      <td>População ou pessoa em situação de rua</td>\n",
       "      <td>Serviço Especializado de Abordagem Social às P...</td>\n",
       "      <td>NaN</td>\n",
       "      <td>NaN</td>\n",
       "      <td>NaN</td>\n",
       "      <td>PENHA</td>\n",
       "      <td>VILA MATILDE</td>\n",
       "      <td>NaN</td>\n",
       "      <td>NaN</td>\n",
       "      <td>NaN</td>\n",
       "      <td>NaN</td>\n",
       "      <td>2020-07-01 01:09:43</td>\n",
       "      <td>FINALIZADA</td>\n",
       "      <td>SMADS</td>\n",
       "      <td>POINT (inf inf)</td>\n",
       "    </tr>\n",
       "    <tr>\n",
       "      <th>664977</th>\n",
       "      <td>2020-06-30 23:58:44</td>\n",
       "      <td>CENTRAL TELEFÔNICA</td>\n",
       "      <td>Cidadania e assistência social</td>\n",
       "      <td>População ou pessoa em situação de rua</td>\n",
       "      <td>Serviço Especializado de Abordagem Social às P...</td>\n",
       "      <td>NaN</td>\n",
       "      <td>NaN</td>\n",
       "      <td>NaN</td>\n",
       "      <td>SE</td>\n",
       "      <td>SANTA CECILIA</td>\n",
       "      <td>NaN</td>\n",
       "      <td>NaN</td>\n",
       "      <td>NaN</td>\n",
       "      <td>NaN</td>\n",
       "      <td>2020-07-01 01:36:47</td>\n",
       "      <td>FINALIZADA</td>\n",
       "      <td>SMADS</td>\n",
       "      <td>POINT (inf inf)</td>\n",
       "    </tr>\n",
       "    <tr>\n",
       "      <th>664978</th>\n",
       "      <td>2020-06-30 23:58:59</td>\n",
       "      <td>PORTAL ONLINE</td>\n",
       "      <td>Animais</td>\n",
       "      <td>Exame, vacinas e castração</td>\n",
       "      <td>Castrar cães e gatos gratuitamente</td>\n",
       "      <td>NaN</td>\n",
       "      <td>NaN</td>\n",
       "      <td>NaN</td>\n",
       "      <td>NaN</td>\n",
       "      <td>NaN</td>\n",
       "      <td>NaN</td>\n",
       "      <td>NaN</td>\n",
       "      <td>NaN</td>\n",
       "      <td>NaN</td>\n",
       "      <td>NaT</td>\n",
       "      <td>AGUARDANDO ATENDIMENTO</td>\n",
       "      <td>SMS-COSAP</td>\n",
       "      <td>POINT (inf inf)</td>\n",
       "    </tr>\n",
       "    <tr>\n",
       "      <th>664979</th>\n",
       "      <td>2020-06-30 23:59:03</td>\n",
       "      <td>CENTRAL TELEFÔNICA</td>\n",
       "      <td>Cidadania e assistência social</td>\n",
       "      <td>População ou pessoa em situação de rua</td>\n",
       "      <td>Serviço Especializado de Abordagem Social às P...</td>\n",
       "      <td>NaN</td>\n",
       "      <td>NaN</td>\n",
       "      <td>NaN</td>\n",
       "      <td>SE</td>\n",
       "      <td>LIBERDADE</td>\n",
       "      <td>NaN</td>\n",
       "      <td>NaN</td>\n",
       "      <td>NaN</td>\n",
       "      <td>NaN</td>\n",
       "      <td>2020-07-01 00:58:49</td>\n",
       "      <td>FINALIZADA</td>\n",
       "      <td>SMADS</td>\n",
       "      <td>POINT (inf inf)</td>\n",
       "    </tr>\n",
       "  </tbody>\n",
       "</table>\n",
       "<p>504225 rows × 18 columns</p>\n",
       "</div>"
      ],
      "text/plain": [
       "          Data de abertura               Canal  \\\n",
       "0      2020-01-01 00:00:15       PORTAL ONLINE   \n",
       "7      2020-01-01 00:13:29  CENTRAL TELEFÔNICA   \n",
       "8      2020-01-01 00:14:56       PORTAL ONLINE   \n",
       "9      2020-01-01 00:17:59  CENTRAL TELEFÔNICA   \n",
       "10     2020-01-01 00:19:21  CENTRAL TELEFÔNICA   \n",
       "...                    ...                 ...   \n",
       "664975 2020-06-30 23:58:22       PORTAL ONLINE   \n",
       "664976 2020-06-30 23:58:40  CENTRAL TELEFÔNICA   \n",
       "664977 2020-06-30 23:58:44  CENTRAL TELEFÔNICA   \n",
       "664978 2020-06-30 23:58:59       PORTAL ONLINE   \n",
       "664979 2020-06-30 23:59:03  CENTRAL TELEFÔNICA   \n",
       "\n",
       "                                  Tema  \\\n",
       "0                         Rua e bairro   \n",
       "7       Cidadania e assistência social   \n",
       "8                         Rua e bairro   \n",
       "9                             Urgência   \n",
       "10      Cidadania e assistência social   \n",
       "...                                ...   \n",
       "664975                   Bilhete Único   \n",
       "664976  Cidadania e assistência social   \n",
       "664977  Cidadania e assistência social   \n",
       "664978                         Animais   \n",
       "664979  Cidadania e assistência social   \n",
       "\n",
       "                                       Assunto  \\\n",
       "0                       Poluição Sonora - PSIU   \n",
       "7       População ou pessoa em situação de rua   \n",
       "8                       Poluição Sonora - PSIU   \n",
       "9                   Guarda Civil Metropolitana   \n",
       "10      População ou pessoa em situação de rua   \n",
       "...                                        ...   \n",
       "664975                                BU Comum   \n",
       "664976  População ou pessoa em situação de rua   \n",
       "664977  População ou pessoa em situação de rua   \n",
       "664978              Exame, vacinas e castração   \n",
       "664979  População ou pessoa em situação de rua   \n",
       "\n",
       "                                                  Serviço Logradouro  Número  \\\n",
       "0                    Reclamação de poluição sonora - PSIU        NaN     NaN   \n",
       "7       Serviço Especializado de Abordagem Social às P...        NaN     NaN   \n",
       "8                    Reclamação de poluição sonora - PSIU        NaN     NaN   \n",
       "9                                  Perturbação do sossego        NaN     NaN   \n",
       "10      Serviço Especializado de Abordagem Social às P...        NaN     NaN   \n",
       "...                                                   ...        ...     ...   \n",
       "664975  Bilhete Único Comum - Solicitação de relatório...        NaN     NaN   \n",
       "664976  Serviço Especializado de Abordagem Social às P...        NaN     NaN   \n",
       "664977  Serviço Especializado de Abordagem Social às P...        NaN     NaN   \n",
       "664978                 Castrar cães e gatos gratuitamente        NaN     NaN   \n",
       "664979  Serviço Especializado de Abordagem Social às P...        NaN     NaN   \n",
       "\n",
       "        CEP     Subprefeitura       Distrito  Setor  Quadra  Latitude  \\\n",
       "0       NaN  SANTANA-TUCURUVI        SANTANA    NaN     NaN       NaN   \n",
       "7       NaN              LAPA           LAPA    NaN     NaN       NaN   \n",
       "8       NaN  SANTANA-TUCURUVI        SANTANA    NaN     NaN       NaN   \n",
       "9       NaN           BUTANTA    RIO PEQUENO    NaN     NaN       NaN   \n",
       "10      NaN  PIRITUBA-JARAGUA       PIRITUBA    NaN     NaN       NaN   \n",
       "...     ...               ...            ...    ...     ...       ...   \n",
       "664975  NaN               NaN            NaN    NaN     NaN       NaN   \n",
       "664976  NaN             PENHA   VILA MATILDE    NaN     NaN       NaN   \n",
       "664977  NaN                SE  SANTA CECILIA    NaN     NaN       NaN   \n",
       "664978  NaN               NaN            NaN    NaN     NaN       NaN   \n",
       "664979  NaN                SE      LIBERDADE    NaN     NaN       NaN   \n",
       "\n",
       "        Longitude     Data do parecer   Status da solicitação      Órgão  \\\n",
       "0             NaN                 NaT  AGUARDANDO ATENDIMENTO      SMSUB   \n",
       "7             NaN 2020-01-01 01:05:09              FINALIZADA      SMADS   \n",
       "8             NaN                 NaT  AGUARDANDO ATENDIMENTO      SMSUB   \n",
       "9             NaN 2020-01-01 01:36:53              FINALIZADA        GCM   \n",
       "10            NaN 2020-01-01 04:25:41              INDEFERIDO      SMADS   \n",
       "...           ...                 ...                     ...        ...   \n",
       "664975        NaN 2020-07-01 09:33:48              FINALIZADA    SPTRANS   \n",
       "664976        NaN 2020-07-01 01:09:43              FINALIZADA      SMADS   \n",
       "664977        NaN 2020-07-01 01:36:47              FINALIZADA      SMADS   \n",
       "664978        NaN                 NaT  AGUARDANDO ATENDIMENTO  SMS-COSAP   \n",
       "664979        NaN 2020-07-01 00:58:49              FINALIZADA      SMADS   \n",
       "\n",
       "               geometry  \n",
       "0       POINT (inf inf)  \n",
       "7       POINT (inf inf)  \n",
       "8       POINT (inf inf)  \n",
       "9       POINT (inf inf)  \n",
       "10      POINT (inf inf)  \n",
       "...                 ...  \n",
       "664975  POINT (inf inf)  \n",
       "664976  POINT (inf inf)  \n",
       "664977  POINT (inf inf)  \n",
       "664978  POINT (inf inf)  \n",
       "664979  POINT (inf inf)  \n",
       "\n",
       "[504225 rows x 18 columns]"
      ]
     },
     "execution_count": 29,
     "metadata": {},
     "output_type": "execute_result"
    }
   ],
   "source": [
    "gdf[gdf_sp.municipio.isna()]"
   ]
  },
  {
   "cell_type": "markdown",
   "metadata": {},
   "source": [
    "## Transformando Setor e Quadra em pontos\n",
    "\n",
    "Alguns registros de atendimento estão com informações de quadras ou setores fiscais e portanto deveriam ser representado pela feição do polígono\n",
    "\n",
    "Porém, para evitarmos múltiplas feições ou uma subtotalização transformar aqueles registros em um ponto no centroide da feição, uma vez que conhecemos as feições de Setor e Quadra. Como são casos menos frequentes podemos proporcionar uma melhor análise dessa maneira.\n",
    "\n",
    "Alias, poderíamos criar um ponto aleatório na feição para evitar a sobreposição, o que também pode ser uma estratégia."
   ]
  },
  {
   "cell_type": "code",
   "execution_count": 30,
   "metadata": {},
   "outputs": [
    {
     "data": {
      "text/plain": [
       "100"
      ]
     },
     "execution_count": 30,
     "metadata": {},
     "output_type": "execute_result"
    }
   ],
   "source": [
    "log.write('## Transformando Registros que contém Setor e Quadra em pontos de Centroide das respectivas feições\\n')"
   ]
  },
  {
   "cell_type": "code",
   "execution_count": 31,
   "metadata": {},
   "outputs": [],
   "source": [
    "zipfile = \"zip:///home/fernando/dev/geo-sp156/arquivos/SIRGAS_SHP_setorfiscal.zip!SIRGAS_SHP_setorfiscal/SIRGAS_SHP_setorfiscal.shp\"\n",
    "df_setores = gpd.read_file(zipfile)\n",
    "\n",
    "zipfile = \"zip:///home/fernando/dev/geo-sp156/arquivos/SIRGAS_SHP_quadraMDSF.zip!SIRGAS_SHP_quadraMDSF/SIRGAS_SHP_quadraMDSF.shp\"\n",
    "df_quadras = gpd.read_file(zipfile)"
   ]
  },
  {
   "cell_type": "code",
   "execution_count": 32,
   "metadata": {},
   "outputs": [],
   "source": [
    "df_setor = gdf[gdf.Latitude.isna() & ~gdf.Setor.isna() & gdf.Quadra.isna()]\n",
    "df_quadra = gdf[gdf.Latitude.isna() & ~gdf.Setor.isna() & ~gdf.Quadra.isna()]"
   ]
  },
  {
   "cell_type": "code",
   "execution_count": 33,
   "metadata": {},
   "outputs": [
    {
     "name": "stderr",
     "output_type": "stream",
     "text": [
      "<ipython-input-33-95edc678f8ac>:1: SettingWithCopyWarning: \n",
      "A value is trying to be set on a copy of a slice from a DataFrame.\n",
      "Try using .loc[row_indexer,col_indexer] = value instead\n",
      "\n",
      "See the caveats in the documentation: https://pandas.pydata.org/pandas-docs/stable/user_guide/indexing.html#returning-a-view-versus-a-copy\n",
      "  df_setor['st_codigo'] = df_setor.Setor.astype(int).apply(lambda x: '{:03d}'.format(x))\n",
      "<ipython-input-33-95edc678f8ac>:2: SettingWithCopyWarning: \n",
      "A value is trying to be set on a copy of a slice from a DataFrame.\n",
      "Try using .loc[row_indexer,col_indexer] = value instead\n",
      "\n",
      "See the caveats in the documentation: https://pandas.pydata.org/pandas-docs/stable/user_guide/indexing.html#returning-a-view-versus-a-copy\n",
      "  df_quadra['qd_setor'] = df_quadra.Setor.astype(int).apply(lambda x: '{:03d}'.format(x))\n",
      "<ipython-input-33-95edc678f8ac>:3: SettingWithCopyWarning: \n",
      "A value is trying to be set on a copy of a slice from a DataFrame.\n",
      "Try using .loc[row_indexer,col_indexer] = value instead\n",
      "\n",
      "See the caveats in the documentation: https://pandas.pydata.org/pandas-docs/stable/user_guide/indexing.html#returning-a-view-versus-a-copy\n",
      "  df_quadra['qd_fiscal'] = df_quadra.Quadra.astype(int).apply(lambda x: '{:03d}'.format(x))\n"
     ]
    }
   ],
   "source": [
    "df_setor['st_codigo'] = df_setor.Setor.astype(int).apply(lambda x: '{:03d}'.format(x))\n",
    "df_quadra['qd_setor'] = df_quadra.Setor.astype(int).apply(lambda x: '{:03d}'.format(x))\n",
    "df_quadra['qd_fiscal'] = df_quadra.Quadra.astype(int).apply(lambda x: '{:03d}'.format(x))"
   ]
  },
  {
   "cell_type": "code",
   "execution_count": 34,
   "metadata": {},
   "outputs": [
    {
     "name": "stderr",
     "output_type": "stream",
     "text": [
      "/home/fernando/miniconda3/envs/geo_env/lib/python3.8/site-packages/pandas/core/generic.py:5303: SettingWithCopyWarning: \n",
      "A value is trying to be set on a copy of a slice from a DataFrame.\n",
      "Try using .loc[row_indexer,col_indexer] = value instead\n",
      "\n",
      "See the caveats in the documentation: https://pandas.pydata.org/pandas-docs/stable/user_guide/indexing.html#returning-a-view-versus-a-copy\n",
      "  self[name] = value\n"
     ]
    }
   ],
   "source": [
    "df_setor.st_codigo = df_setor.st_codigo.astype('str')\n",
    "df_quadra.qd_setor = df_quadra.qd_setor.astype('str')\n",
    "df_quadra.qd_fiscal = df_quadra.qd_fiscal.astype('str')"
   ]
  },
  {
   "cell_type": "code",
   "execution_count": 35,
   "metadata": {},
   "outputs": [],
   "source": [
    "# REmovendo setores duplicados\n",
    "df_setores = df_setores.drop(df_setores[df_setores.duplicated(['st_codigo'], keep=False)].index)"
   ]
  },
  {
   "cell_type": "code",
   "execution_count": 36,
   "metadata": {},
   "outputs": [],
   "source": [
    "df_setores.geometry = df_setores.geometry.centroid"
   ]
  },
  {
   "cell_type": "code",
   "execution_count": 37,
   "metadata": {},
   "outputs": [
    {
     "name": "stderr",
     "output_type": "stream",
     "text": [
      "<ipython-input-37-dbee181b6a7e>:1: SettingWithCopyWarning: \n",
      "A value is trying to be set on a copy of a slice from a DataFrame.\n",
      "Try using .loc[row_indexer,col_indexer] = value instead\n",
      "\n",
      "See the caveats in the documentation: https://pandas.pydata.org/pandas-docs/stable/user_guide/indexing.html#returning-a-view-versus-a-copy\n",
      "  df_setor['id'] = df_setor.index\n"
     ]
    }
   ],
   "source": [
    "df_setor['id'] = df_setor.index"
   ]
  },
  {
   "cell_type": "code",
   "execution_count": 38,
   "metadata": {},
   "outputs": [],
   "source": [
    "setor = df_setor.merge(df_setores[['geometry', 'st_codigo']], on=['st_codigo'], suffixes=('', '_y'), how='left')"
   ]
  },
  {
   "cell_type": "code",
   "execution_count": 39,
   "metadata": {},
   "outputs": [],
   "source": [
    "setor = setor.set_index('id')"
   ]
  },
  {
   "cell_type": "code",
   "execution_count": 40,
   "metadata": {},
   "outputs": [],
   "source": [
    "# Atualizando os centroind no DataFrame\n",
    "gdf.loc[(gdf.Latitude.isna() & ~gdf.Setor.isna() & gdf.Quadra.isna()), 'geometry'] = setor.geometry_y"
   ]
  },
  {
   "cell_type": "code",
   "execution_count": 41,
   "metadata": {},
   "outputs": [],
   "source": [
    "# REmovendo as quadras duplicadas\n",
    "quadras = df_quadras.drop(df_quadras[df_quadras.duplicated(['qd_setor', 'qd_fiscal', 'qd_subqua'], keep=False)].index)"
   ]
  },
  {
   "cell_type": "code",
   "execution_count": 42,
   "metadata": {},
   "outputs": [],
   "source": [
    "quadras = quadras.drop(quadras[quadras.qd_subqua != '001'].index)"
   ]
  },
  {
   "cell_type": "code",
   "execution_count": 43,
   "metadata": {},
   "outputs": [],
   "source": [
    "quadras.geometry = quadras.geometry.centroid"
   ]
  },
  {
   "cell_type": "code",
   "execution_count": 44,
   "metadata": {},
   "outputs": [
    {
     "name": "stderr",
     "output_type": "stream",
     "text": [
      "<ipython-input-44-b7af52435b04>:1: SettingWithCopyWarning: \n",
      "A value is trying to be set on a copy of a slice from a DataFrame.\n",
      "Try using .loc[row_indexer,col_indexer] = value instead\n",
      "\n",
      "See the caveats in the documentation: https://pandas.pydata.org/pandas-docs/stable/user_guide/indexing.html#returning-a-view-versus-a-copy\n",
      "  df_quadra['id'] = df_quadra.index\n"
     ]
    }
   ],
   "source": [
    "df_quadra['id'] = df_quadra.index"
   ]
  },
  {
   "cell_type": "code",
   "execution_count": 45,
   "metadata": {},
   "outputs": [],
   "source": [
    "quadra = df_quadra.merge(quadras[['geometry', 'qd_setor', 'qd_fiscal']], on=['qd_setor', 'qd_fiscal'], suffixes=('', '_y'), how='left')"
   ]
  },
  {
   "cell_type": "code",
   "execution_count": 46,
   "metadata": {},
   "outputs": [],
   "source": [
    "quadra = quadra.set_index('id')"
   ]
  },
  {
   "cell_type": "code",
   "execution_count": 47,
   "metadata": {},
   "outputs": [],
   "source": [
    "# Atualizando os centroind da quadra no DataFrame\n",
    "gdf.loc[gdf.Latitude.isna() & ~gdf.Setor.isna() & ~gdf.Quadra.isna(), 'geometry'] = quadra.geometry_y"
   ]
  },
  {
   "cell_type": "code",
   "execution_count": 50,
   "metadata": {},
   "outputs": [],
   "source": [
    "# gdf[gdf.geometry.is_valid].to_file('resultados/atendimentos-1-semestre-2020.gpkg', driver='GPKG')"
   ]
  },
  {
   "cell_type": "markdown",
   "metadata": {},
   "source": [
    "## Totalizando serviços por distrito\n",
    "\n",
    "Quando o atendimento gera apenas uma informação do distrito uma estratégia é totalizar os atendimentos por cada distrito."
   ]
  },
  {
   "cell_type": "code",
   "execution_count": null,
   "metadata": {},
   "outputs": [],
   "source": [
    "log.write('## Totalizando serviços por Distrito\\n')"
   ]
  },
  {
   "cell_type": "code",
   "execution_count": null,
   "metadata": {},
   "outputs": [],
   "source": [
    "df_distritos = gpd.read_file('arquivos/SIRGAS_SHP_distrito_polygon.shp')"
   ]
  },
  {
   "cell_type": "code",
   "execution_count": null,
   "metadata": {},
   "outputs": [],
   "source": [
    "df_distritos.crs = 'epsg:31983'"
   ]
  },
  {
   "cell_type": "code",
   "execution_count": null,
   "metadata": {},
   "outputs": [],
   "source": [
    "log.write(f'- Removendo {len(df[df.Distrito.isna()])} registros que não tem informação de distrito nem outra informação espacial\\n')"
   ]
  },
  {
   "cell_type": "code",
   "execution_count": null,
   "metadata": {},
   "outputs": [],
   "source": [
    "df_distrito = df[~df.Distrito.isna()]"
   ]
  },
  {
   "cell_type": "code",
   "execution_count": null,
   "metadata": {},
   "outputs": [],
   "source": [
    "log.write(f'- Totalizando {len(df_distrito.Tema.unique())} temas distintos\\n')"
   ]
  },
  {
   "cell_type": "code",
   "execution_count": null,
   "metadata": {},
   "outputs": [],
   "source": [
    "log.write(f'- Totalizando {len(df_distrito.Serviço.unique())} serviços distintos\\n')"
   ]
  },
  {
   "cell_type": "code",
   "execution_count": null,
   "metadata": {},
   "outputs": [],
   "source": [
    "# pd.get_dummies(df[['Distrito', 'Serviço']][~df['Distrito'].isna()], columns=['Serviço']).groupby(['Distrito']).sum()"
   ]
  },
  {
   "cell_type": "code",
   "execution_count": null,
   "metadata": {},
   "outputs": [],
   "source": [
    "log.write(f'- Totalizando {len(gdf[~gdf.geometry.is_valid & ~gdf.Quadra.isna() & ~gdf.Setor.isna()])} registros sem Setor e Quadra válidos\\n')"
   ]
  },
  {
   "cell_type": "code",
   "execution_count": null,
   "metadata": {},
   "outputs": [],
   "source": [
    "log.write(\"## Gerando totalizações de camadas\\n\")"
   ]
  },
  {
   "cell_type": "code",
   "execution_count": null,
   "metadata": {},
   "outputs": [],
   "source": [
    "for t in gdf.Tema.unique():\n",
    "    print(f\"{t}: ({len(gdf[(gdf.Tema == t)])})\")\n",
    "    log.write(f\"{t}: ({len(gdf[(gdf.Tema == t)])})\\n\")\n",
    "    for s in gdf[(gdf.Tema == t)].Serviço.unique():\n",
    "        g = len(gdf[(gdf.Serviço == s)])\n",
    "        g_valids = len(gdf[gdf.geometry.is_valid & (gdf.Serviço == s)])\n",
    "        print(f\"  {s}: ({g}: {g_valids} pontos, {g-g_valids} agregado por distrito)\")\n",
    "        log.write(f\"  {s}: ({g}: {g_valids} pontos, {g-g_valids} agregado por distrito)\\n\")"
   ]
  },
  {
   "cell_type": "markdown",
   "metadata": {},
   "source": [
    "## Gerando o arquivo das camadas\n",
    "\n",
    "Agora vamos gerar um arquivo GeoPackage com um padrão de nomes assim:\n",
    "\n",
    "* Tema - Geometria - Serviço\n",
    "\n",
    "Isso tanto para os pontos quanto para as totalizações por distrito"
   ]
  },
  {
   "cell_type": "code",
   "execution_count": null,
   "metadata": {},
   "outputs": [],
   "source": [
    "log.write(\"## Gerando camadas de polígonos\\n\")"
   ]
  },
  {
   "cell_type": "code",
   "execution_count": null,
   "metadata": {},
   "outputs": [],
   "source": [
    "poligonos = gdf[~gdf.geometry.is_valid]"
   ]
  },
  {
   "cell_type": "code",
   "execution_count": null,
   "metadata": {},
   "outputs": [],
   "source": [
    "poligonos[['AGUARDANDO ATENDIMENTO','CANCELADA','FINALIZADA','INDEFERIDO']] = pd.get_dummies(poligonos['Status da solicitação'])"
   ]
  },
  {
   "cell_type": "code",
   "execution_count": null,
   "metadata": {},
   "outputs": [],
   "source": [
    "poligonos.dtypes"
   ]
  },
  {
   "cell_type": "code",
   "execution_count": null,
   "metadata": {},
   "outputs": [],
   "source": [
    "(poligonos[['Distrito', 'AGUARDANDO ATENDIMENTO', 'CANCELADA', 'FINALIZADA', 'INDEFERIDO', 'Data de abertura']]\n",
    " .groupby(['Distrito'])\n",
    " .agg({\n",
    "     'AGUARDANDO ATENDIMENTO':'sum',\n",
    "     'CANCELADA':'sum',\n",
    "     'FINALIZADA':'sum',\n",
    "     'INDEFERIDO':'sum',\n",
    "     'Data de abertura':'count'\n",
    " })\n",
    " .rename(columns={'Data de abertura':'total_atendimentos'}))"
   ]
  },
  {
   "cell_type": "code",
   "execution_count": null,
   "metadata": {},
   "outputs": [],
   "source": [
    "for t in poligonos.Tema.unique():\n",
    "    log.write(f\"{t}: ({len(poligonos[(poligonos.Tema == t)])})\\n\")\n",
    "    for s in poligonos[(poligonos.Tema == t)].Serviço.unique():\n",
    "        log.write(f\"  {s}: ({len(poligonos[(poligonos.Serviço == s)])})\\n\")\n",
    "        c = (poligonos[poligonos.Serviço == s][['Distrito', 'AGUARDANDO ATENDIMENTO', 'CANCELADA', 'FINALIZADA', 'INDEFERIDO', 'Data de abertura']]\n",
    "             .groupby(['Distrito'])\n",
    "             .agg({\n",
    "                 'AGUARDANDO ATENDIMENTO':'sum',\n",
    "                 'CANCELADA':'sum',\n",
    "                 'FINALIZADA':'sum',\n",
    "                 'INDEFERIDO':'sum',\n",
    "                 'Data de abertura':'count'\n",
    "             })\n",
    "             .rename(columns={'Data de abertura':'total_atendimentos'}))\n",
    "        r = df_distritos.merge(c, left_on='ds_nome', right_on='Distrito')\n",
    "        if len(r) > 1:\n",
    "            r.to_file(f'resultados/Visualizador-156-2020.gpkg', layer=f'{t} - Polígono - {s}', driver='GPKG')"
   ]
  },
  {
   "cell_type": "code",
   "execution_count": null,
   "metadata": {},
   "outputs": [],
   "source": [
    "log.write(\"## Gerando camadas de pontos\\n\")"
   ]
  },
  {
   "cell_type": "code",
   "execution_count": null,
   "metadata": {},
   "outputs": [],
   "source": [
    "pontos = gdf[gdf.geometry.is_valid & ~gdf_sp.municipio.isna()]"
   ]
  },
  {
   "cell_type": "code",
   "execution_count": null,
   "metadata": {},
   "outputs": [],
   "source": [
    "len(pontos)"
   ]
  },
  {
   "cell_type": "code",
   "execution_count": null,
   "metadata": {},
   "outputs": [],
   "source": [
    "for t in pontos.Tema.unique():\n",
    "    log.write(f\"{t}: ({len(pontos[(pontos.Tema == t)])})\\n\")\n",
    "    for s in pontos[(pontos.Tema == t)].Serviço.unique():\n",
    "        log.write(f\"  {s}: ({len(pontos[(pontos.Serviço == s) & (pontos.Tema == t)])})\\n\")\n",
    "        r = pontos[(pontos.Serviço == s) & (pontos.Tema == t)]\n",
    "        if len(r) > 1:\n",
    "            r.to_file(f'resultados/Visualizador-156-2020.gpkg', layer=f'{t} - Ponto - {s}', driver='GPKG')"
   ]
  },
  {
   "cell_type": "code",
   "execution_count": null,
   "metadata": {},
   "outputs": [],
   "source": [
    "pontos_menor_200 = gdf_menor_200[gdf_menor_200.geometry.is_valid]"
   ]
  },
  {
   "cell_type": "code",
   "execution_count": null,
   "metadata": {},
   "outputs": [],
   "source": [
    "len(pontos_menor_200)"
   ]
  },
  {
   "cell_type": "code",
   "execution_count": null,
   "metadata": {},
   "outputs": [],
   "source": [
    "log.write(f\"Outros: ({len(pontos_menor_200)})\\n\")\n",
    "pontos_menor_200.to_file(f'resultados/Visualizador-156-2020.gpkg', layer=f'Outros - Serviços com menos de {limite} ocorrências - Ponto - {s}', driver='GPKG')"
   ]
  },
  {
   "cell_type": "markdown",
   "metadata": {},
   "source": [
    "## Salvando LOG\n"
   ]
  },
  {
   "cell_type": "code",
   "execution_count": null,
   "metadata": {},
   "outputs": [],
   "source": [
    "log.write(f'- {datetime.now().strftime(\"%d/%m/%Y %H:%M:%S\")}')\n",
    "log.write('## Finalizando processamento')"
   ]
  },
  {
   "cell_type": "code",
   "execution_count": null,
   "metadata": {},
   "outputs": [],
   "source": [
    "log.close()"
   ]
  },
  {
   "cell_type": "code",
   "execution_count": null,
   "metadata": {},
   "outputs": [],
   "source": []
  }
 ],
 "metadata": {
  "kernelspec": {
   "display_name": "Python 3",
   "language": "python",
   "name": "python3"
  },
  "language_info": {
   "codemirror_mode": {
    "name": "ipython",
    "version": 3
   },
   "file_extension": ".py",
   "mimetype": "text/x-python",
   "name": "python",
   "nbconvert_exporter": "python",
   "pygments_lexer": "ipython3",
   "version": "3.8.2"
  }
 },
 "nbformat": 4,
 "nbformat_minor": 4
}
