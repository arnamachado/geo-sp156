{
 "cells": [
  {
   "cell_type": "markdown",
   "metadata": {},
   "source": [
    "# Quadro geral para visualização no GeoSampa\n",
    "\n",
    "Esse aqui é o NoteBook Para Planejamento da Visualização dos dados no GeoSampa\n"
   ]
  },
  {
   "cell_type": "code",
   "execution_count": 1,
   "metadata": {},
   "outputs": [
    {
     "name": "stderr",
     "output_type": "stream",
     "text": [
      "/home/fernando/miniconda3/envs/geo_env/lib/python3.8/site-packages/IPython/core/interactiveshell.py:3062: DtypeWarning: Columns (7) have mixed types.Specify dtype option on import or set low_memory=False.\n",
      "  has_raised = await self.run_ast_nodes(code_ast.body, cell_name,\n"
     ]
    }
   ],
   "source": [
    "import pandas as pd\n",
    "import glob\n",
    "\n",
    "# Abrindo o ano de 2020\n",
    "df = pd.read_csv('download/dados-do-sp156---1o-tri-2020.csv',index_col=None, header=0, encoding=\"ISO-8859-1\", delimiter=';', parse_dates=['Data de abertura', 'Data do parecer'])"
   ]
  },
  {
   "cell_type": "code",
   "execution_count": 2,
   "metadata": {},
   "outputs": [],
   "source": [
    "df['Latitude'] = pd.to_numeric(df['Latitude'].str.replace(',', '.'), errors='coerce')\n",
    "df['Longitude'] = pd.to_numeric(df['Longitude'].str.replace(',', '.'), errors='coerce')"
   ]
  },
  {
   "cell_type": "code",
   "execution_count": 3,
   "metadata": {},
   "outputs": [
    {
     "data": {
      "text/plain": [
       "Data de abertura         datetime64[ns]\n",
       "Canal                            object\n",
       "Tema                             object\n",
       "Assunto                          object\n",
       "Serviço                          object\n",
       "Logradouro                       object\n",
       "Número                          float64\n",
       "CEP                              object\n",
       "Subprefeitura                    object\n",
       "Distrito                         object\n",
       "Setor                           float64\n",
       "Quadra                          float64\n",
       "Latitude                        float64\n",
       "Longitude                       float64\n",
       "Data do parecer          datetime64[ns]\n",
       "Status da solicitação            object\n",
       "Órgão                            object\n",
       "dtype: object"
      ]
     },
     "execution_count": 3,
     "metadata": {},
     "output_type": "execute_result"
    }
   ],
   "source": [
    "df.dtypes"
   ]
  },
  {
   "cell_type": "markdown",
   "metadata": {},
   "source": [
    "## Suprimindo da visualização serviços pouco solicitados \n",
    "\n",
    "Para melhorar a navagação seria interessante ter menos serviços dessa forma podemos criar um grupo grande com outros serviços"
   ]
  },
  {
   "cell_type": "code",
   "execution_count": 4,
   "metadata": {},
   "outputs": [],
   "source": [
    "limite = 200"
   ]
  },
  {
   "cell_type": "code",
   "execution_count": 5,
   "metadata": {},
   "outputs": [
    {
     "name": "stdout",
     "output_type": "stream",
     "text": [
      "Pretty printing has been turned OFF\n"
     ]
    }
   ],
   "source": [
    "%pprint"
   ]
  },
  {
   "cell_type": "code",
   "execution_count": 6,
   "metadata": {
    "scrolled": false
   },
   "outputs": [],
   "source": [
    "df[~df.Distrito.isna()].groupby(['Serviço']).filter(lambda x: len(x) > limite).groupby(['Tema','Serviço'])['Canal'].count().to_csv(f'./resultados/hierarquia-de-visualizacao-limite-{limite}.csv')"
   ]
  },
  {
   "cell_type": "code",
   "execution_count": 7,
   "metadata": {},
   "outputs": [],
   "source": [
    "df = df.drop(df.groupby(['Serviço']).filter(lambda x: len(x) <= limite).index)"
   ]
  },
  {
   "cell_type": "markdown",
   "metadata": {},
   "source": [
    "## Pontos\n",
    "\n",
    "No caso dos pontos podemos gerar um arquivo sem discretização, ou seja, cada registro conterá seu ponto.\n",
    "\n",
    "Então para todos os registros vamos criar uma geometria de pontos pela Lat e Long"
   ]
  },
  {
   "cell_type": "code",
   "execution_count": 8,
   "metadata": {},
   "outputs": [],
   "source": [
    "import geopandas as gpd"
   ]
  },
  {
   "cell_type": "code",
   "execution_count": 9,
   "metadata": {},
   "outputs": [],
   "source": [
    "gdf = gpd.GeoDataFrame(df, geometry=gpd.points_from_xy(df.Longitude, df.Latitude))"
   ]
  },
  {
   "cell_type": "code",
   "execution_count": 10,
   "metadata": {},
   "outputs": [],
   "source": [
    "gdf.crs = 'epsg:4989'\n",
    "gdf = gdf.to_crs('epsg:31983')"
   ]
  },
  {
   "cell_type": "markdown",
   "metadata": {},
   "source": [
    "## Transformando Setor e Quadra em pontos\n",
    "\n",
    "Alguns registros de atendimento estão com informações de quadras ou setores fiscais e portanto deveriam ser representado pela feição do polígono\n",
    "\n",
    "Porém, para evitarmos múltiplas feições ou uma subtotalização transformar aqueles registros em um ponto no centroide da feição, uma vez que conhecemos as feições de Setor e Quadra. Como são casos menos frequentes podemos proporcionar uma melhor análise dessa maneira.\n",
    "\n",
    "Alias, poderíamos criar um ponto aleatório na feição para evitar a sobreposição, o que também pode ser uma estratégia."
   ]
  },
  {
   "cell_type": "code",
   "execution_count": 11,
   "metadata": {},
   "outputs": [],
   "source": [
    "zipfile = \"zip:///home/fernando/dev/geo-sp156/arquivos/SIRGAS_SHP_setorfiscal.zip!SIRGAS_SHP_setorfiscal/SIRGAS_SHP_setorfiscal.shp\"\n",
    "df_setores = gpd.read_file(zipfile)\n",
    "\n",
    "zipfile = \"zip:///home/fernando/dev/geo-sp156/arquivos/SIRGAS_SHP_quadraMDSF.zip!SIRGAS_SHP_quadraMDSF/SIRGAS_SHP_quadraMDSF.shp\"\n",
    "df_quadras = gpd.read_file(zipfile)"
   ]
  },
  {
   "cell_type": "code",
   "execution_count": 12,
   "metadata": {},
   "outputs": [],
   "source": [
    "df_setor = gdf[gdf.Latitude.isna() & ~gdf.Setor.isna() & gdf.Quadra.isna()]\n",
    "df_quadra = gdf[gdf.Latitude.isna() & ~gdf.Setor.isna() & ~gdf.Quadra.isna()]"
   ]
  },
  {
   "cell_type": "code",
   "execution_count": 13,
   "metadata": {},
   "outputs": [
    {
     "name": "stderr",
     "output_type": "stream",
     "text": [
      "<ipython-input-13-95edc678f8ac>:1: SettingWithCopyWarning: \n",
      "A value is trying to be set on a copy of a slice from a DataFrame.\n",
      "Try using .loc[row_indexer,col_indexer] = value instead\n",
      "\n",
      "See the caveats in the documentation: https://pandas.pydata.org/pandas-docs/stable/user_guide/indexing.html#returning-a-view-versus-a-copy\n",
      "  df_setor['st_codigo'] = df_setor.Setor.astype(int).apply(lambda x: '{:03d}'.format(x))\n",
      "<ipython-input-13-95edc678f8ac>:2: SettingWithCopyWarning: \n",
      "A value is trying to be set on a copy of a slice from a DataFrame.\n",
      "Try using .loc[row_indexer,col_indexer] = value instead\n",
      "\n",
      "See the caveats in the documentation: https://pandas.pydata.org/pandas-docs/stable/user_guide/indexing.html#returning-a-view-versus-a-copy\n",
      "  df_quadra['qd_setor'] = df_quadra.Setor.astype(int).apply(lambda x: '{:03d}'.format(x))\n",
      "<ipython-input-13-95edc678f8ac>:3: SettingWithCopyWarning: \n",
      "A value is trying to be set on a copy of a slice from a DataFrame.\n",
      "Try using .loc[row_indexer,col_indexer] = value instead\n",
      "\n",
      "See the caveats in the documentation: https://pandas.pydata.org/pandas-docs/stable/user_guide/indexing.html#returning-a-view-versus-a-copy\n",
      "  df_quadra['qd_fiscal'] = df_quadra.Quadra.astype(int).apply(lambda x: '{:03d}'.format(x))\n"
     ]
    }
   ],
   "source": [
    "df_setor['st_codigo'] = df_setor.Setor.astype(int).apply(lambda x: '{:03d}'.format(x))\n",
    "df_quadra['qd_setor'] = df_quadra.Setor.astype(int).apply(lambda x: '{:03d}'.format(x))\n",
    "df_quadra['qd_fiscal'] = df_quadra.Quadra.astype(int).apply(lambda x: '{:03d}'.format(x))"
   ]
  },
  {
   "cell_type": "code",
   "execution_count": 14,
   "metadata": {},
   "outputs": [
    {
     "name": "stderr",
     "output_type": "stream",
     "text": [
      "/home/fernando/miniconda3/envs/geo_env/lib/python3.8/site-packages/pandas/core/generic.py:5303: SettingWithCopyWarning: \n",
      "A value is trying to be set on a copy of a slice from a DataFrame.\n",
      "Try using .loc[row_indexer,col_indexer] = value instead\n",
      "\n",
      "See the caveats in the documentation: https://pandas.pydata.org/pandas-docs/stable/user_guide/indexing.html#returning-a-view-versus-a-copy\n",
      "  self[name] = value\n"
     ]
    }
   ],
   "source": [
    "df_setor.st_codigo = df_setor.st_codigo.astype('str')\n",
    "df_quadra.qd_setor = df_quadra.qd_setor.astype('str')\n",
    "df_quadra.qd_fiscal = df_quadra.qd_fiscal.astype('str')"
   ]
  },
  {
   "cell_type": "code",
   "execution_count": 15,
   "metadata": {},
   "outputs": [],
   "source": [
    "# REmovendo setores duplicados\n",
    "df_setores = df_setores.drop(df_setores[df_setores.duplicated(['st_codigo'], keep=False)].index)"
   ]
  },
  {
   "cell_type": "code",
   "execution_count": 16,
   "metadata": {},
   "outputs": [],
   "source": [
    "df_setores.geometry = df_setores.geometry.centroid"
   ]
  },
  {
   "cell_type": "code",
   "execution_count": 17,
   "metadata": {},
   "outputs": [
    {
     "name": "stderr",
     "output_type": "stream",
     "text": [
      "<ipython-input-17-dbee181b6a7e>:1: SettingWithCopyWarning: \n",
      "A value is trying to be set on a copy of a slice from a DataFrame.\n",
      "Try using .loc[row_indexer,col_indexer] = value instead\n",
      "\n",
      "See the caveats in the documentation: https://pandas.pydata.org/pandas-docs/stable/user_guide/indexing.html#returning-a-view-versus-a-copy\n",
      "  df_setor['id'] = df_setor.index\n"
     ]
    }
   ],
   "source": [
    "df_setor['id'] = df_setor.index"
   ]
  },
  {
   "cell_type": "code",
   "execution_count": 18,
   "metadata": {},
   "outputs": [],
   "source": [
    "setor = df_setor.merge(df_setores[['geometry', 'st_codigo']], on=['st_codigo'], suffixes=('', '_y'), how='left')"
   ]
  },
  {
   "cell_type": "code",
   "execution_count": 19,
   "metadata": {},
   "outputs": [],
   "source": [
    "setor = setor.set_index('id')"
   ]
  },
  {
   "cell_type": "code",
   "execution_count": 20,
   "metadata": {},
   "outputs": [],
   "source": [
    "# Atualizando os centroind no DataFrame\n",
    "gdf.loc[(gdf.Latitude.isna() & ~gdf.Setor.isna() & gdf.Quadra.isna()), 'geometry'] = setor.geometry_y"
   ]
  },
  {
   "cell_type": "code",
   "execution_count": 23,
   "metadata": {},
   "outputs": [],
   "source": [
    "# REmovendo as quadras duplicadas\n",
    "quadras = df_quadras.drop(df_quadras[df_quadras.duplicated(['qd_setor', 'qd_fiscal', 'qd_subqua'], keep=False)].index)"
   ]
  },
  {
   "cell_type": "code",
   "execution_count": 24,
   "metadata": {},
   "outputs": [],
   "source": [
    "quadras = quadras.drop(quadras[quadras.qd_subqua != '001'].index)"
   ]
  },
  {
   "cell_type": "code",
   "execution_count": 25,
   "metadata": {},
   "outputs": [],
   "source": [
    "quadras.geometry = quadras.geometry.centroid"
   ]
  },
  {
   "cell_type": "code",
   "execution_count": 26,
   "metadata": {},
   "outputs": [
    {
     "name": "stderr",
     "output_type": "stream",
     "text": [
      "<ipython-input-26-b7af52435b04>:1: SettingWithCopyWarning: \n",
      "A value is trying to be set on a copy of a slice from a DataFrame.\n",
      "Try using .loc[row_indexer,col_indexer] = value instead\n",
      "\n",
      "See the caveats in the documentation: https://pandas.pydata.org/pandas-docs/stable/user_guide/indexing.html#returning-a-view-versus-a-copy\n",
      "  df_quadra['id'] = df_quadra.index\n"
     ]
    }
   ],
   "source": [
    "df_quadra['id'] = df_quadra.index"
   ]
  },
  {
   "cell_type": "code",
   "execution_count": 27,
   "metadata": {},
   "outputs": [],
   "source": [
    "quadra = df_quadra.merge(quadras[['geometry', 'qd_setor', 'qd_fiscal']], on=['qd_setor', 'qd_fiscal'], suffixes=('', '_y'), how='left')"
   ]
  },
  {
   "cell_type": "code",
   "execution_count": 28,
   "metadata": {},
   "outputs": [],
   "source": [
    "quadra = quadra.set_index('id')"
   ]
  },
  {
   "cell_type": "code",
   "execution_count": 29,
   "metadata": {},
   "outputs": [],
   "source": [
    "# Atualizando os centroind da quadra no DataFrame\n",
    "gdf.loc[gdf.Latitude.isna() & ~gdf.Setor.isna() & ~gdf.Quadra.isna(), 'geometry'] = quadra.geometry_y"
   ]
  },
  {
   "cell_type": "markdown",
   "metadata": {},
   "source": [
    "## Totalizando serviços por distrito\n",
    "\n",
    "Quando o atendimento gera apenas uma informação do distrito uma estratégia é totalizar os atendimentos por cada distrito."
   ]
  },
  {
   "cell_type": "code",
   "execution_count": 30,
   "metadata": {},
   "outputs": [],
   "source": [
    "df_distritos = gpd.read_file('arquivos/SIRGAS_SHP_distrito_polygon.shp')"
   ]
  },
  {
   "cell_type": "code",
   "execution_count": 31,
   "metadata": {},
   "outputs": [],
   "source": [
    "df_distritos.crs = 'epsg:31983'"
   ]
  },
  {
   "cell_type": "code",
   "execution_count": 32,
   "metadata": {},
   "outputs": [],
   "source": [
    "df_distrito = df[~df.Distrito.isna()]"
   ]
  },
  {
   "cell_type": "code",
   "execution_count": 33,
   "metadata": {},
   "outputs": [
    {
     "data": {
      "text/plain": [
       "12"
      ]
     },
     "execution_count": 33,
     "metadata": {},
     "output_type": "execute_result"
    }
   ],
   "source": [
    "len(df_distrito.Tema.unique())"
   ]
  },
  {
   "cell_type": "code",
   "execution_count": 34,
   "metadata": {},
   "outputs": [
    {
     "data": {
      "text/plain": [
       "110"
      ]
     },
     "execution_count": 34,
     "metadata": {},
     "output_type": "execute_result"
    }
   ],
   "source": [
    "len(df_distrito.Serviço.unique())"
   ]
  },
  {
   "cell_type": "code",
   "execution_count": 35,
   "metadata": {},
   "outputs": [],
   "source": [
    "# pd.get_dummies(df[['Distrito', 'Serviço']][~df['Distrito'].isna()], columns=['Serviço']).groupby(['Distrito']).sum()"
   ]
  },
  {
   "cell_type": "code",
   "execution_count": 36,
   "metadata": {},
   "outputs": [
    {
     "name": "stdout",
     "output_type": "stream",
     "text": [
      "Rua e bairro: (91652)\n",
      "  Reclamação de poluição sonora - PSIU: (4804)\n",
      "  Tapa-buraco: (38036)\n",
      "  Drenagem de água da chuva - Bueiros e bocas de lobo: (2033)\n",
      "  Manutenção de guias, sarjetas e sarjetões: (1721)\n",
      "  Fiscalização de ambulantes: (1073)\n",
      "  Execução de serviços em árvore localizada em área pública: (15745)\n",
      "  Roçada em praças e canteiro central: (5138)\n",
      "  Manutenção de calçadas em áreas públicas e praças: (469)\n",
      "  Capinação em guias e sarjetas: (5791)\n",
      "  Limpeza de bueiros, boca de lobo e poços de visita: (5911)\n",
      "  Invasão de áreas municipais: (611)\n",
      "  Obstáculo dificultando acessibilidade: (1038)\n",
      "  Denúncia de calçada particular irregular, danificada ou inexistente: (873)\n",
      "  Denunciar falta de limpeza de terrenos e imóveis particulares: (3101)\n",
      "  Reforma e revitalização de praças: (501)\n",
      "  Denunciar poda ou remoção não autorizada de árvore: (626)\n",
      "  Pintura de guias e postes: (271)\n",
      "  Recuperar galerias de águas de chuvas (pluviais): (765)\n",
      "  Denunciar despejo irregular de água usada ou esgoto: (645)\n",
      "  Manutenção de vielas e escadarias: (420)\n",
      "  Denúncia de loteamento irregular ou clandestino: (223)\n",
      "  Plantio de árvore em vias e áreas públicas: (376)\n",
      "  Tapa-buraco em faixa exclusiva ou corredor de ônibus: (1105)\n",
      "  Nivelamento de vias de terra: (376)\n",
      "Trânsito e Transporte: (31282)\n",
      "  Ônibus - Reclamação de intervalo excessivo da linha: (4703)\n",
      "  Remoção de veículo/carcaça abandonado na via pública: (6816)\n",
      "  Fiscalização de veículo estacionado em local proibido: (1293)\n",
      "  Ônibus - Denúncia de alteração de itinerário ou ponto inicial/final: (233)\n",
      "  Aviso de semáforo com problemas: (1593)\n",
      "  Avaliação da circulação e acesso de veículos e pedestres: (1643)\n",
      "  Ônibus - Denúncia de conduta do motorista, cobrador ou fiscal: (3963)\n",
      "  Ônibus - Denúncia de problemas no embarque/desembarque: (2978)\n",
      "  Ônibus - Reclamação de descumprimento de partida no ponto inicial/final: (879)\n",
      "  Ônibus - Denúncia de direção inadequada ou perigosa de veículo: (930)\n",
      "  SPTrans - Sugestão: (563)\n",
      "  Ônibus - Reclamação de demora na partida: (318)\n",
      "  Implantação de abrigo ou ponto de ônibus: (357)\n",
      "  Manutenção de placas de trânsito: (740)\n",
      "  Manutenção, conserto e limpeza de ponto de ônibus: (268)\n",
      "  Manutenção de sinalização horizontal (pintura de solo): (606)\n",
      "  Ônibus - Reclamação de veículo com superlotação: (370)\n",
      "  Remanejamento de ponto de ônibus: (242)\n",
      "  Denunciar reserva irregular de vaga: (308)\n",
      "  Ônibus - Manutenção do veículo em geral: (508)\n",
      "  Avaliação de travessia de pedestres: (365)\n",
      "  Intensificar fiscalização de veículos em movimento: (330)\n",
      "  Ônibus - Elogio ao motorista, cobrador ou fiscal: (317)\n",
      "  Taxi / Aplicativos - Denúncia de conduta ou postura do condutor: (212)\n",
      "  Intensificar fiscalização de veículos estacionados/parados irregularmente: (511)\n",
      "  Ajuste do tempo de semáforo de veículos e pedestres: (236)\n",
      "Cidadania e assistência social: (33877)\n",
      "  Serviço Especializado de Abordagem Social às Pessoas em Situação de Rua - SEAS: (33877)\n",
      "Urgência: (18365)\n",
      "  Perturbação do sossego: (3606)\n",
      "  Alarme disparado: (955)\n",
      "  Invasão: (471)\n",
      "  Apoio a agente público: (1074)\n",
      "  Atitude Suspeita: (256)\n",
      "  Comércio irregular: (1784)\n",
      "  Risco de desabamento: (1030)\n",
      "  Ocorrências com animais silvestres: (655)\n",
      "  Queda de árvore: (1780)\n",
      "  Outras ocorrências em escolas: (232)\n",
      "  Risco iminente de queda de árvore: (1699)\n",
      "  Queda de galho: (924)\n",
      "  Alagamento: (280)\n",
      "  Inundação: (282)\n",
      "  Infiltração: (715)\n",
      "  Rachadura de Edificação: (785)\n",
      "  Crimes contra o meio ambiente: (330)\n",
      "  Desabamento: (350)\n",
      "  Risco de deslizamento: (325)\n",
      "  Erosão: (373)\n",
      "  Deslizamento: (459)\n",
      "Lixo e limpeza: (37696)\n",
      "  Remoção de grandes objetos em vias públicas: (15608)\n",
      "  Reclamações sobre coleta de lixo domiciliar: (2001)\n",
      "  Instalação e remoção de lixeira: (2309)\n",
      "  Reclamação de falta de varrição: (3701)\n",
      "  Remoção de entulho em via pública: (7983)\n",
      "  Fiscalizar descarte irregular de entulho e outros resíduos em área pública: (2011)\n",
      "  Lavagem especial de locais públicos: (577)\n",
      "  Cata Bagulho - Reclamação de não retirada de material: (1050)\n",
      "  Denúncia de colocação de lixo domiciliar fora do horário de coleta: (483)\n",
      "  Limpar lixeiras públicas: (329)\n",
      "  Limpeza da via pública após enchentes ou eventos: (621)\n",
      "  Reclamação de não remoção dos sacos de varrição: (427)\n",
      "  Reclamações sobre coleta seletiva: (341)\n",
      "  Instalação de contêiner para coleta de lixo domiciliar: (255)\n",
      "Animais: (12178)\n",
      "  Avaliação de animal em sofrimento sem proprietário para eutanásia (morte sem dor): (569)\n",
      "  Reclamação de local com morcego: (459)\n",
      "  Avaliação de animal agressor em vias públicas: (435)\n",
      "  Vistoria de colmeia/vespeiro instalado: (3628)\n",
      "  Avaliação de animal invasor de instituições públicas (cães e gatos): (223)\n",
      "  Remoção de animal morto em via pública: (1151)\n",
      "  Avaliação de local com pernilongo/mosquito: (671)\n",
      "  Denunciar local com roedores/ratos: (2235)\n",
      "  Denunciar condições inadequadas de criação: (1844)\n",
      "  Denunciar local com escorpião: (606)\n",
      "  Denúncia de local com pombos: (357)\n",
      "Ouvidoria Geral do Município: (7783)\n",
      "  Reclamação: (6959)\n",
      "  Denúncia: (399)\n",
      "  Solicitação: (425)\n",
      "Obras, imóveis e habitação: (3364)\n",
      "  Fiscalização de obra e reforma em imóvel particular: (3364)\n",
      "Saúde: (3439)\n",
      "  Denunciar local com acúmulo de água limpa e parada: (3439)\n",
      "Bilhete Único: (1866)\n",
      "  Comunicação de problema em posto de recarga: (567)\n",
      "  Comunicação de erro em cobrança de integração (ônibus e metrô ou trem): (1087)\n",
      "  Bilhete Único - Falha na recarga: (212)\n",
      "Comércio e serviços: (8975)\n",
      "  Fiscalização de comércio, serviço e indústria   funcionamento e operação: (1585)\n",
      "  Fiscalização em estabelecimento com venda de bebida alcoólica entre 1h e 5h da manhã: (374)\n",
      "  Denunciar comércio que se manteve aberto durante a crise do Coronavirus: (7016)\n",
      "Meio Ambiente: (1451)\n",
      "  Poda ou remoção de árvores ou vegetação em parques: (454)\n",
      "  Limpeza de córrego: (997)\n"
     ]
    }
   ],
   "source": [
    "for t in df_distrito.Tema.unique():\n",
    "    print(f\"{t}: ({len(df_distrito[(df_distrito.Tema == t)])})\")\n",
    "    for s in df_distrito[(df_distrito.Tema == t)].Serviço.unique():\n",
    "        print(f\"  {s}: ({len(df_distrito[(df_distrito.Serviço == s)])})\")"
   ]
  },
  {
   "cell_type": "markdown",
   "metadata": {},
   "source": [
    "## Gerando o arquivo das camadas\n",
    "\n",
    "Agora vamos gerar um arquivo GeoPackage com um padrão de nomes assim:\n",
    "\n",
    "* Tema - Geometria - Serviço\n",
    "\n",
    "Isso tanto para os pontos quanto para as totalizações por distrito"
   ]
  },
  {
   "cell_type": "code",
   "execution_count": 37,
   "metadata": {},
   "outputs": [
    {
     "name": "stdout",
     "output_type": "stream",
     "text": [
      "Rua e bairro: (91652)\n",
      "  Reclamação de poluição sonora - PSIU: (4804)\n",
      "  Tapa-buraco: (38036)\n",
      "  Drenagem de água da chuva - Bueiros e bocas de lobo: (2033)\n",
      "  Manutenção de guias, sarjetas e sarjetões: (1721)\n",
      "  Fiscalização de ambulantes: (1073)\n",
      "  Execução de serviços em árvore localizada em área pública: (15745)\n",
      "  Roçada em praças e canteiro central: (5138)\n",
      "  Manutenção de calçadas em áreas públicas e praças: (469)\n",
      "  Capinação em guias e sarjetas: (5791)\n",
      "  Limpeza de bueiros, boca de lobo e poços de visita: (5911)\n",
      "  Invasão de áreas municipais: (611)\n",
      "  Obstáculo dificultando acessibilidade: (1038)\n",
      "  Denúncia de calçada particular irregular, danificada ou inexistente: (873)\n",
      "  Denunciar falta de limpeza de terrenos e imóveis particulares: (3101)\n",
      "  Reforma e revitalização de praças: (501)\n",
      "  Denunciar poda ou remoção não autorizada de árvore: (626)\n",
      "  Pintura de guias e postes: (271)\n",
      "  Recuperar galerias de águas de chuvas (pluviais): (765)\n",
      "  Denunciar despejo irregular de água usada ou esgoto: (645)\n",
      "  Manutenção de vielas e escadarias: (420)\n",
      "  Denúncia de loteamento irregular ou clandestino: (223)\n",
      "  Plantio de árvore em vias e áreas públicas: (376)\n",
      "  Tapa-buraco em faixa exclusiva ou corredor de ônibus: (1105)\n",
      "  Nivelamento de vias de terra: (376)\n",
      "Trânsito e Transporte: (31282)\n",
      "  Ônibus - Reclamação de intervalo excessivo da linha: (4703)\n",
      "  Remoção de veículo/carcaça abandonado na via pública: (6816)\n",
      "  Fiscalização de veículo estacionado em local proibido: (1293)\n",
      "  Ônibus - Denúncia de alteração de itinerário ou ponto inicial/final: (233)\n",
      "  Aviso de semáforo com problemas: (1593)\n",
      "  Avaliação da circulação e acesso de veículos e pedestres: (1643)\n",
      "  Ônibus - Denúncia de conduta do motorista, cobrador ou fiscal: (3963)\n",
      "  Ônibus - Denúncia de problemas no embarque/desembarque: (2978)\n",
      "  Ônibus - Reclamação de descumprimento de partida no ponto inicial/final: (879)\n",
      "  Ônibus - Denúncia de direção inadequada ou perigosa de veículo: (930)\n",
      "  SPTrans - Sugestão: (563)\n",
      "  Ônibus - Reclamação de demora na partida: (318)\n",
      "  Implantação de abrigo ou ponto de ônibus: (357)\n",
      "  Manutenção de placas de trânsito: (740)\n",
      "  Manutenção, conserto e limpeza de ponto de ônibus: (268)\n",
      "  Manutenção de sinalização horizontal (pintura de solo): (606)\n",
      "  Ônibus - Reclamação de veículo com superlotação: (370)\n",
      "  Remanejamento de ponto de ônibus: (242)\n",
      "  Denunciar reserva irregular de vaga: (308)\n",
      "  Ônibus - Manutenção do veículo em geral: (508)\n",
      "  Avaliação de travessia de pedestres: (365)\n",
      "  Intensificar fiscalização de veículos em movimento: (330)\n",
      "  Ônibus - Elogio ao motorista, cobrador ou fiscal: (317)\n",
      "  Taxi / Aplicativos - Denúncia de conduta ou postura do condutor: (212)\n",
      "  Intensificar fiscalização de veículos estacionados/parados irregularmente: (511)\n",
      "  Ajuste do tempo de semáforo de veículos e pedestres: (236)\n",
      "Cidadania e assistência social: (33877)\n",
      "  Serviço Especializado de Abordagem Social às Pessoas em Situação de Rua - SEAS: (33877)\n",
      "Urgência: (18365)\n",
      "  Perturbação do sossego: (3606)\n",
      "  Alarme disparado: (955)\n",
      "  Invasão: (471)\n",
      "  Apoio a agente público: (1074)\n",
      "  Atitude Suspeita: (256)\n",
      "  Comércio irregular: (1784)\n",
      "  Risco de desabamento: (1030)\n",
      "  Ocorrências com animais silvestres: (655)\n",
      "  Queda de árvore: (1780)\n",
      "  Outras ocorrências em escolas: (232)\n",
      "  Risco iminente de queda de árvore: (1699)\n",
      "  Queda de galho: (924)\n",
      "  Alagamento: (280)\n",
      "  Inundação: (282)\n",
      "  Infiltração: (715)\n",
      "  Rachadura de Edificação: (785)\n",
      "  Crimes contra o meio ambiente: (330)\n",
      "  Desabamento: (350)\n",
      "  Risco de deslizamento: (325)\n",
      "  Erosão: (373)\n",
      "  Deslizamento: (459)\n",
      "Lixo e limpeza: (37696)\n",
      "  Remoção de grandes objetos em vias públicas: (15608)\n",
      "  Reclamações sobre coleta de lixo domiciliar: (2001)\n",
      "  Instalação e remoção de lixeira: (2309)\n",
      "  Reclamação de falta de varrição: (3701)\n",
      "  Remoção de entulho em via pública: (7983)\n",
      "  Fiscalizar descarte irregular de entulho e outros resíduos em área pública: (2011)\n",
      "  Lavagem especial de locais públicos: (577)\n",
      "  Cata Bagulho - Reclamação de não retirada de material: (1050)\n",
      "  Denúncia de colocação de lixo domiciliar fora do horário de coleta: (483)\n",
      "  Limpar lixeiras públicas: (329)\n",
      "  Limpeza da via pública após enchentes ou eventos: (621)\n",
      "  Reclamação de não remoção dos sacos de varrição: (427)\n",
      "  Reclamações sobre coleta seletiva: (341)\n",
      "  Instalação de contêiner para coleta de lixo domiciliar: (255)\n",
      "Animais: (12178)\n",
      "  Avaliação de animal em sofrimento sem proprietário para eutanásia (morte sem dor): (569)\n",
      "  Reclamação de local com morcego: (459)\n",
      "  Avaliação de animal agressor em vias públicas: (435)\n",
      "  Vistoria de colmeia/vespeiro instalado: (3628)\n",
      "  Avaliação de animal invasor de instituições públicas (cães e gatos): (223)\n",
      "  Remoção de animal morto em via pública: (1151)\n",
      "  Avaliação de local com pernilongo/mosquito: (671)\n",
      "  Denunciar local com roedores/ratos: (2235)\n",
      "  Denunciar condições inadequadas de criação: (1844)\n",
      "  Denunciar local com escorpião: (606)\n",
      "  Denúncia de local com pombos: (357)\n",
      "Ouvidoria Geral do Município: (7783)\n",
      "  Reclamação: (6959)\n",
      "  Denúncia: (399)\n",
      "  Solicitação: (425)\n",
      "Obras, imóveis e habitação: (3364)\n",
      "  Fiscalização de obra e reforma em imóvel particular: (3364)\n",
      "Saúde: (3439)\n",
      "  Denunciar local com acúmulo de água limpa e parada: (3439)\n",
      "Bilhete Único: (1866)\n",
      "  Comunicação de problema em posto de recarga: (567)\n",
      "  Comunicação de erro em cobrança de integração (ônibus e metrô ou trem): (1087)\n",
      "  Bilhete Único - Falha na recarga: (212)\n",
      "Comércio e serviços: (8975)\n",
      "  Fiscalização de comércio, serviço e indústria   funcionamento e operação: (1585)\n",
      "  Fiscalização em estabelecimento com venda de bebida alcoólica entre 1h e 5h da manhã: (374)\n",
      "  Denunciar comércio que se manteve aberto durante a crise do Coronavirus: (7016)\n",
      "Meio Ambiente: (1451)\n",
      "  Poda ou remoção de árvores ou vegetação em parques: (454)\n",
      "  Limpeza de córrego: (997)\n"
     ]
    }
   ],
   "source": [
    "for t in df_distrito.Tema.unique():\n",
    "    print(f\"{t}: ({len(df_distrito[(df_distrito.Tema == t)])})\")\n",
    "    for s in df_distrito[(df_distrito.Tema == t)].Serviço.unique():\n",
    "        print(f\"  {s}: ({len(df_distrito[(df_distrito.Serviço == s)])})\")\n",
    "        c = (df_distrito[(df_distrito.Serviço == s)][['Distrito','Data de abertura']]\n",
    "             .groupby('Distrito')\n",
    "             .count()\n",
    "             .rename(columns={'Data de abertura':'total_atendimentos'}))\n",
    "        r = df_distritos.merge(c, left_on='ds_nome', right_on='Distrito')\n",
    "        if len(r) > 1:\n",
    "            r.to_file(f'resultados/Visualizador-156-2020.gpkg', layer=f'{t} - Polígono - {s}', driver='GPKG')"
   ]
  },
  {
   "cell_type": "code",
   "execution_count": 38,
   "metadata": {},
   "outputs": [],
   "source": [
    "# Exportanto os pontos"
   ]
  },
  {
   "cell_type": "code",
   "execution_count": 39,
   "metadata": {},
   "outputs": [],
   "source": [
    "pontos = gdf[gdf.geometry.is_valid]"
   ]
  },
  {
   "cell_type": "code",
   "execution_count": 40,
   "metadata": {},
   "outputs": [
    {
     "name": "stdout",
     "output_type": "stream",
     "text": [
      "Rua e bairro: (51234)\n",
      "  Tapa-buraco: (38129)\n",
      "  Capinação em guias e sarjetas: (5806)\n",
      "  Limpeza de bueiros, boca de lobo e poços de visita: (5920)\n",
      "  Pintura de guias e postes: (271)\n",
      "  Tapa-buraco em faixa exclusiva ou corredor de ônibus: (1108)\n",
      "Trânsito e Transporte: (8301)\n",
      "  Ônibus - Reclamação de intervalo excessivo da linha: (4724)\n",
      "  Fiscalização de veículo estacionado em local proibido: (1295)\n",
      "  Ônibus - Denúncia de direção inadequada ou perigosa de veículo: (934)\n",
      "  Manutenção de placas de trânsito: (742)\n",
      "  Manutenção de sinalização horizontal (pintura de solo): (606)\n",
      "Lixo e limpeza: (34640)\n",
      "  Remoção de grandes objetos em vias públicas: (15629)\n",
      "  Reclamações sobre coleta de lixo domiciliar: (1756)\n",
      "  Instalação e remoção de lixeira: (2312)\n",
      "  Reclamação de falta de varrição: (3703)\n",
      "  Remoção de entulho em via pública: (7997)\n",
      "  Lavagem especial de locais públicos: (578)\n",
      "  Cata Bagulho - Reclamação de não retirada de material: (1053)\n",
      "  Limpeza da via pública após enchentes ou eventos: (623)\n",
      "  Reclamação de não remoção dos sacos de varrição: (427)\n",
      "  Reclamações sobre coleta seletiva: (307)\n",
      "  Instalação de contêiner para coleta de lixo domiciliar: (255)\n",
      "Animais: (5926)\n",
      "  Avaliação de animal em sofrimento sem proprietário para eutanásia (morte sem dor): (424)\n",
      "  Reclamação de local com morcego: (399)\n",
      "  Vistoria de colmeia/vespeiro instalado: (3059)\n",
      "  Remoção de animal morto em via pública: (1153)\n",
      "  Avaliação de local com pernilongo/mosquito: (555)\n",
      "  Avaliação de animal agressor em vias públicas: (336)\n"
     ]
    }
   ],
   "source": [
    "for t in pontos.Tema.unique():\n",
    "    print(f\"{t}: ({len(pontos[(pontos.Tema == t)])})\")\n",
    "    for s in pontos[(pontos.Tema == t)].Serviço.unique():\n",
    "        print(f\"  {s}: ({len(pontos[(pontos.Serviço == s) & (pontos.Tema == t)])})\")\n",
    "        r = pontos[(pontos.Serviço == s) & (pontos.Tema == t)]\n",
    "        if len(r) > 1:\n",
    "            r.to_file(f'resultados/Visualizador-156-2020.gpkg', layer=f'{t} - Ponto - {s}', driver='GPKG')"
   ]
  },
  {
   "cell_type": "markdown",
   "metadata": {},
   "source": [
    "## TODO Trantando pontos fora dos limites do município de São Paulo\n",
    "\n",
    "Existem casos em que os pontos estão localizados fora dos limites do município de São Paulo e para finalidade de estudo vamos quantifica-los e discriminá-los para estudos posteriores."
   ]
  },
  {
   "cell_type": "code",
   "execution_count": 41,
   "metadata": {},
   "outputs": [],
   "source": [
    "# msp = geopandas.read_file('arquivos/SP.shp')"
   ]
  },
  {
   "cell_type": "code",
   "execution_count": 42,
   "metadata": {},
   "outputs": [],
   "source": [
    "# gdf_sp = geopandas.sjoin(gdf, msp, how='left', op='within')"
   ]
  },
  {
   "cell_type": "code",
   "execution_count": 43,
   "metadata": {},
   "outputs": [],
   "source": [
    "# gdf_sp[gdf_sp.municipio.isna()].to_file(\"resultados/fora_dos_limites.gpkg\", layer='fora_dos_limites', driver=\"GPKG\")"
   ]
  },
  {
   "cell_type": "code",
   "execution_count": null,
   "metadata": {},
   "outputs": [],
   "source": []
  }
 ],
 "metadata": {
  "kernelspec": {
   "display_name": "Python 3",
   "language": "python",
   "name": "python3"
  },
  "language_info": {
   "codemirror_mode": {
    "name": "ipython",
    "version": 3
   },
   "file_extension": ".py",
   "mimetype": "text/x-python",
   "name": "python",
   "nbconvert_exporter": "python",
   "pygments_lexer": "ipython3",
   "version": "3.8.2"
  }
 },
 "nbformat": 4,
 "nbformat_minor": 4
}
